{
 "cells": [
  {
   "cell_type": "code",
   "execution_count": 61,
   "metadata": {},
   "outputs": [],
   "source": [
    "import re\n",
    "from itertools import combinations, combinations_with_replacement, permutations, product \n",
    "from operator import itemgetter, add, mul, sub, truediv, pow\n",
    "from sympy import sympify, symbols, exp, sin, cos, ln, asin, acos\n",
    "x, k, m = symbols('x k m')"
   ]
  },
  {
   "cell_type": "code",
   "execution_count": 62,
   "metadata": {},
   "outputs": [],
   "source": [
    "constants = [k,m]\n",
    "\n",
    "all_nodes = {\n",
    "    'x': {\n",
    "        'children': 0,\n",
    "        'op': x\n",
    "    },\n",
    "    'k': {\n",
    "        'children': 0,\n",
    "        'op': k,\n",
    "        'constant': True\n",
    "    },\n",
    "    'm': {\n",
    "        'children': 0,\n",
    "        'op': m,\n",
    "        'constant': True\n",
    "    },\n",
    "    'exp': {\n",
    "        'children': 1,\n",
    "        'op': exp\n",
    "    },\n",
    "    'ln': {\n",
    "        'children': 1,\n",
    "        'op': ln\n",
    "    },\n",
    "    'sin': {\n",
    "        'children': 1,\n",
    "        'op': sin\n",
    "    },\n",
    "    'cos': {\n",
    "        'children': 1,\n",
    "        'op': cos\n",
    "    },\n",
    "    '+': {\n",
    "        'children': 2,\n",
    "        'op': add,\n",
    "        'commutative': True,\n",
    "        'no_duplicates': True # x+x = 2*x = c*x, so in the end a duplicate\n",
    "    },\n",
    "    '-': {\n",
    "        'children': 2,\n",
    "        'op': sub,\n",
    "        'no_duplicates': True,\n",
    "        'filter': lambda left, right: not right in constants\n",
    "    },\n",
    "    '*': {\n",
    "        'children': 2,\n",
    "        'op': mul,\n",
    "        'commutative': True\n",
    "    },\n",
    "    '/': {\n",
    "        'children': 2,\n",
    "        'op': truediv,\n",
    "        'no_duplicates': True\n",
    "    },\n",
    "    # '**': {\n",
    "    #     'children': 2,\n",
    "    #     'op': pow,\n",
    "    #     'commutative': False\n",
    "    # }\n",
    "}\n",
    "\n",
    "constants = [node['op'] for node in all_nodes.values() if 'constant' in node]\n",
    "variables = [node['op'] for node in all_nodes.values() if node['children'] == 0 and not 'constant' in node]"
   ]
  },
  {
   "cell_type": "code",
   "execution_count": 63,
   "metadata": {},
   "outputs": [],
   "source": [
    "def combinatoric_iterator(operation):\n",
    "    if 'commutative' in operation and 'no_duplicates' in operation:\n",
    "        return lambda p: combinations(p, 2)\n",
    "    elif 'commutative' in operation:\n",
    "        return lambda p: combinations_with_replacement(p, 2)\n",
    "    elif 'no_duplicates' in operation:\n",
    "        return lambda p: permutations(p, 2)\n",
    "    return lambda p: product(p, repeat=2)"
   ]
  },
  {
   "cell_type": "markdown",
   "metadata": {},
   "source": [
    "### Komplexität\n",
    "$k_1$: Anzahl nicht-kommutativer Operationen mit Duplikaten ($x^y$)\n",
    "\n",
    "$k_2$: Anzahl nicht-kommutativer Operationen ohne Duplikate ($x-y$, $x/y$)\n",
    "\n",
    "$k_3$: Anzahl kommutativer Operationen mit Duplikaten ($x\\cdot y$)\n",
    "\n",
    "$k_4$: Anzahl kommutativer Operationen ohne Duplikate ($x+y$)\n",
    "\n",
    "$k_5$: Anzahl Funktionen ($sin$, $cos$, $exp$ etc.)\n",
    "\n",
    "$n$: Anzahl Ausdrücke\n",
    "\n",
    "$$f_k(n)=k_1n^2+k_2\\frac{n!}{(n-2)!}+k_3\\frac{(n+1)!}{2(n-1)!}+k_4\\frac{n!}{2(n-2)!}+(k_5+1)n$$\n",
    "\n",
    "Gesamtmenge aller Ausdrücke mit Tiefe $l$:\n",
    "\n",
    "$$f^l_k(n)$$"
   ]
  },
  {
   "cell_type": "code",
   "execution_count": 64,
   "metadata": {},
   "outputs": [],
   "source": [
    "def get_constants(fn_str):\n",
    "    constants_str = list(map(str, constants))\n",
    "    re_constants = re.compile(f\"[{''.join(constants_str)}]\")\n",
    "    return re.findall(re_constants, fn_str)"
   ]
  },
  {
   "cell_type": "code",
   "execution_count": 65,
   "metadata": {},
   "outputs": [],
   "source": [
    "def generate_expressions(sub_expressions, single_constants=False):\n",
    "    for properties in all_nodes.values():\n",
    "        children, operation = itemgetter('children', 'op')(properties)\n",
    "        if children == 2:\n",
    "            iterator = combinatoric_iterator(properties)(sub_expressions)\n",
    "            op_filter = properties.get('filter', None)\n",
    "            for left, right in iterator:\n",
    "                if single_constants:\n",
    "                    fn_constants = get_constants(str(left) + str(right))\n",
    "                    if len(fn_constants) > len(set(fn_constants)):\n",
    "                        continue\n",
    "                left, right = sympify(left), sympify(right)\n",
    "                if not op_filter or op_filter(left, right):\n",
    "                    yield operation(left, right)\n",
    "        elif children == 1:\n",
    "            for expr in sub_expressions:\n",
    "                expr = sympify(expr)\n",
    "                if not expr in constants:\n",
    "                    yield operation(expr)"
   ]
  },
  {
   "cell_type": "code",
   "execution_count": 66,
   "metadata": {},
   "outputs": [],
   "source": [
    "def save_expressions(depth, single_constants=False):\n",
    "    uniques = set(variables + constants)\n",
    "    if depth > 1:\n",
    "        with open(f'uniques_ext_depth{depth - 1}.csv', 'r') as file:\n",
    "            for line in file:\n",
    "                uniques.add(line.strip())\n",
    "\n",
    "    with open(f'expressions_ext_depth{depth}.csv', 'w') as file:\n",
    "        for expr in generate_expressions(uniques, single_constants=single_constants):\n",
    "            expr_str = str(expr)\n",
    "            if re.search(r'x(?!p)', expr_str):\n",
    "                file.write(expr_str)\n",
    "                file.write('\\n')\n",
    "        for expr in uniques:\n",
    "            file.write(str(expr))\n",
    "            file.write('\\n')"
   ]
  },
  {
   "cell_type": "code",
   "execution_count": 67,
   "metadata": {},
   "outputs": [],
   "source": [
    "def cleanup_expressions(depth, max_constants=None):\n",
    "    uniques = set()\n",
    "    symbols_str = list(map(str, variables + constants))\n",
    "    constants_str = list(map(str, constants))\n",
    "    re_mul_int = re.compile(f\"(?<!\\*)\\*?\\d\\*({'|'.join(symbols_str)})\")\n",
    "    re_pow_int = re.compile(f\"({'|'.join(constants_str)})\\*\\*\\d\")\n",
    "    \n",
    "    with open(f'expressions_ext_depth{depth}.csv', 'r') as file:\n",
    "        for line in file:\n",
    "            line = re.sub(re_mul_int, lambda match: match.group(1), line)\n",
    "            line = re.sub(re_pow_int, lambda match: match.group(0), line)\n",
    "            if max_constants and len(get_constants(line)) > max_constants:\n",
    "                pass\n",
    "            else:\n",
    "                uniques.add(line)\n",
    "    with open(f'uniques_ext_depth{depth}.csv', 'w') as file:\n",
    "        for line in uniques:\n",
    "            file.write(line)"
   ]
  },
  {
   "cell_type": "code",
   "execution_count": 60,
   "metadata": {},
   "outputs": [],
   "source": [
    "depth = 2\n",
    "save_expressions(depth, single_constants=True)\n",
    "cleanup_expressions(depth)"
   ]
  },
  {
   "cell_type": "code",
   "execution_count": 56,
   "metadata": {},
   "outputs": [],
   "source": [
    "# cleanup_expressions(3, max_constants=2)"
   ]
  }
 ],
 "metadata": {
  "kernelspec": {
   "display_name": "Python 3.11.5 ('base')",
   "language": "python",
   "name": "python3"
  },
  "language_info": {
   "codemirror_mode": {
    "name": "ipython",
    "version": 3
   },
   "file_extension": ".py",
   "mimetype": "text/x-python",
   "name": "python",
   "nbconvert_exporter": "python",
   "pygments_lexer": "ipython3",
   "version": "3.11.5"
  },
  "orig_nbformat": 4,
  "vscode": {
   "interpreter": {
    "hash": "57bc2b6ce032b5f0e93daa91901b7ea38a856826ef43aa9e95b6d3999f5310df"
   }
  }
 },
 "nbformat": 4,
 "nbformat_minor": 2
}
