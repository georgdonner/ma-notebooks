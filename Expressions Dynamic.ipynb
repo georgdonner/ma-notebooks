{
 "cells": [
  {
   "cell_type": "code",
   "execution_count": 4,
   "metadata": {},
   "outputs": [],
   "source": [
    "from itertools import product, combinations_with_replacement\n",
    "from operator import itemgetter, add, mul, sub, truediv\n",
    "from sympy import srepr, sympify, symbols, exp, sin, cos\n",
    "x,c = symbols('x c')"
   ]
  },
  {
   "cell_type": "code",
   "execution_count": 5,
   "metadata": {},
   "outputs": [],
   "source": [
    "all_nodes = {\n",
    "    'x': {\n",
    "        'children': 0,\n",
    "        'op': x\n",
    "    },\n",
    "    'c': {\n",
    "        'children': 0,\n",
    "        'op': c # Konstante\n",
    "    },\n",
    "    'exp': {\n",
    "        'children': 1,\n",
    "        'op': exp\n",
    "    },\n",
    "    'sin': {\n",
    "        'children': 1,\n",
    "        'op': sin\n",
    "    },\n",
    "    'cos': {\n",
    "        'children': 1,\n",
    "        'op': cos\n",
    "    },\n",
    "    '+': {\n",
    "        'children': 2,\n",
    "        'op': add,\n",
    "        'commutative': True\n",
    "    },\n",
    "    '-': {\n",
    "        'children': 2,\n",
    "        'op': sub,\n",
    "        'commutative': False\n",
    "    },\n",
    "    '*': {\n",
    "        'children': 2,\n",
    "        'op': mul,\n",
    "        'commutative': True\n",
    "    },\n",
    "    '/': {\n",
    "        'children': 2,\n",
    "        'op': truediv,\n",
    "        'commutative': False\n",
    "    }\n",
    "}"
   ]
  },
  {
   "cell_type": "code",
   "execution_count": 8,
   "metadata": {},
   "outputs": [],
   "source": [
    "def generate_expressions(sub_expressions):\n",
    "    for properties in all_nodes.values():\n",
    "        children, operation = itemgetter('children', 'op')(properties)\n",
    "        if children == 2 and 'commutative' in properties:\n",
    "            for left, right in combinations_with_replacement(sub_expressions, 2):\n",
    "                yield operation(sympify(left), sympify(right))\n",
    "        elif children == 2:\n",
    "            for left, right in product(sub_expressions, repeat=2):\n",
    "                yield operation(sympify(left), sympify(right))\n",
    "        elif children == 1:\n",
    "            for expr in sub_expressions:\n",
    "                yield operation(sympify(expr))"
   ]
  },
  {
   "cell_type": "code",
   "execution_count": 15,
   "metadata": {},
   "outputs": [],
   "source": [
    "def save_expressions(depth):\n",
    "    uniques = set()\n",
    "    if depth <= 1:\n",
    "        uniques = set([x, c])\n",
    "    else:\n",
    "        with open(f'uniques_depth{depth - 1}.csv', 'r') as file:\n",
    "            for line in file:\n",
    "                uniques.add(line)\n",
    "\n",
    "    with open(f'expressions_depth{depth}.csv', 'w') as file:\n",
    "        for expr in generate_expressions(uniques):\n",
    "            file.write(srepr(expr))\n",
    "            file.write('\\n')"
   ]
  },
  {
   "cell_type": "code",
   "execution_count": 10,
   "metadata": {},
   "outputs": [],
   "source": [
    "def remove_unique_expressions(depth):\n",
    "    uniques = set()\n",
    "    with open(f'expressions_depth{depth}.csv', 'r') as file:\n",
    "        for line in file:\n",
    "            uniques.add(line)\n",
    "    with open(f'uniques_depth{depth}.csv', 'w') as file:\n",
    "        for line in uniques:\n",
    "            file.write(line)"
   ]
  },
  {
   "cell_type": "code",
   "execution_count": 18,
   "metadata": {},
   "outputs": [],
   "source": [
    "save_expressions(3)"
   ]
  },
  {
   "cell_type": "code",
   "execution_count": 19,
   "metadata": {},
   "outputs": [],
   "source": [
    "remove_unique_expressions(3)"
   ]
  }
 ],
 "metadata": {
  "kernelspec": {
   "display_name": "base",
   "language": "python",
   "name": "python3"
  },
  "language_info": {
   "codemirror_mode": {
    "name": "ipython",
    "version": 3
   },
   "file_extension": ".py",
   "mimetype": "text/x-python",
   "name": "python",
   "nbconvert_exporter": "python",
   "pygments_lexer": "ipython3",
   "version": "3.11.5"
  },
  "orig_nbformat": 4
 },
 "nbformat": 4,
 "nbformat_minor": 2
}
