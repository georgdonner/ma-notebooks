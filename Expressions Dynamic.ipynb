{
 "cells": [
  {
   "cell_type": "code",
   "execution_count": 29,
   "metadata": {},
   "outputs": [],
   "source": [
    "from itertools import product, combinations_with_replacement\n",
    "from operator import itemgetter, add, mul, sub, truediv, pow\n",
    "from sympy import srepr, sympify, symbols, exp, sin, cos, ln, asin, acos\n",
    "from math import factorial\n",
    "x,c = symbols('x c')"
   ]
  },
  {
   "cell_type": "code",
   "execution_count": 13,
   "metadata": {},
   "outputs": [],
   "source": [
    "all_nodes = {\n",
    "    'x': {\n",
    "        'children': 0,\n",
    "        'op': x\n",
    "    },\n",
    "    'c': {\n",
    "        'children': 0,\n",
    "        'op': c # Konstante\n",
    "    },\n",
    "    'exp': {\n",
    "        'children': 1,\n",
    "        'op': exp\n",
    "    },\n",
    "    'ln': {\n",
    "        'children': 1,\n",
    "        'op': ln\n",
    "    },\n",
    "    'sin': {\n",
    "        'children': 1,\n",
    "        'op': sin\n",
    "    },\n",
    "    'cos': {\n",
    "        'children': 1,\n",
    "        'op': cos\n",
    "    },\n",
    "    'asin': {\n",
    "        'children': 1,\n",
    "        'op': asin\n",
    "    },\n",
    "    'acos': {\n",
    "        'children': 1,\n",
    "        'op': acos\n",
    "    },\n",
    "    '+': {\n",
    "        'children': 2,\n",
    "        'op': add,\n",
    "        'commutative': True\n",
    "    },\n",
    "    '-': {\n",
    "        'children': 2,\n",
    "        'op': sub,\n",
    "        'commutative': False\n",
    "    },\n",
    "    '*': {\n",
    "        'children': 2,\n",
    "        'op': mul,\n",
    "        'commutative': True\n",
    "    },\n",
    "    '/': {\n",
    "        'children': 2,\n",
    "        'op': truediv,\n",
    "        'commutative': False\n",
    "    },\n",
    "    # '**': {\n",
    "    #     'children': 2,\n",
    "    #     'op': pow,\n",
    "    #     'commutative': False\n",
    "    # }\n",
    "}"
   ]
  },
  {
   "cell_type": "code",
   "execution_count": 6,
   "metadata": {},
   "outputs": [],
   "source": [
    "def generate_expressions(sub_expressions):\n",
    "    for properties in all_nodes.values():\n",
    "        children, operation = itemgetter('children', 'op')(properties)\n",
    "        if children == 2 and properties['commutative'] == True:\n",
    "            for left, right in combinations_with_replacement(sub_expressions, 2):\n",
    "                yield operation(sympify(left), sympify(right))\n",
    "        elif children == 2:\n",
    "            for left, right in product(sub_expressions, repeat=2):\n",
    "                yield operation(sympify(left), sympify(right))\n",
    "        elif children == 1:\n",
    "            for expr in sub_expressions:\n",
    "                yield operation(sympify(expr))"
   ]
  },
  {
   "cell_type": "code",
   "execution_count": 7,
   "metadata": {},
   "outputs": [],
   "source": [
    "def save_expressions(depth):\n",
    "    uniques = set()\n",
    "    if depth <= 1:\n",
    "        uniques = set([x, c])\n",
    "    else:\n",
    "        with open(f'uniques_ext_depth{depth - 1}.csv', 'r') as file:\n",
    "            for line in file:\n",
    "                uniques.add(line)\n",
    "\n",
    "    with open(f'expressions_ext_depth{depth}.csv', 'w') as file:\n",
    "        for expr in generate_expressions(uniques):\n",
    "            file.write(srepr(expr))\n",
    "            file.write('\\n')"
   ]
  },
  {
   "cell_type": "code",
   "execution_count": 8,
   "metadata": {},
   "outputs": [],
   "source": [
    "def remove_unique_expressions(depth):\n",
    "    uniques = set()\n",
    "    with open(f'expressions_ext_depth{depth}.csv', 'r') as file:\n",
    "        for line in file:\n",
    "            uniques.add(line)\n",
    "    with open(f'uniques_ext_depth{depth}.csv', 'w') as file:\n",
    "        for line in uniques:\n",
    "            file.write(line)"
   ]
  },
  {
   "cell_type": "code",
   "execution_count": 26,
   "metadata": {},
   "outputs": [],
   "source": [
    "save_expressions(2)"
   ]
  },
  {
   "cell_type": "code",
   "execution_count": 27,
   "metadata": {},
   "outputs": [],
   "source": [
    "remove_unique_expressions(2)"
   ]
  },
  {
   "cell_type": "code",
   "execution_count": 31,
   "metadata": {},
   "outputs": [],
   "source": [
    "def calculate_complexity(n_expr):\n",
    "    n_commutative = len([n for n in all_nodes.values() if 'commutative' in n and n['commutative']])\n",
    "    n_dual = len([n for n in all_nodes.values() if 'commutative' in n and not n['commutative'] and n['children'] == 2])\n",
    "    n_single = len([n for n in all_nodes.values() if n['children'] == 1])\n",
    "    commutative_combinations = factorial(n_expr+1) / 2 / factorial(n_expr-1)\n",
    "    return n_commutative * commutative_combinations + n_dual * n_expr**2 + n_single * n_expr"
   ]
  },
  {
   "cell_type": "code",
   "execution_count": null,
   "metadata": {},
   "outputs": [],
   "source": []
  }
 ],
 "metadata": {
  "kernelspec": {
   "display_name": "base",
   "language": "python",
   "name": "python3"
  },
  "language_info": {
   "codemirror_mode": {
    "name": "ipython",
    "version": 3
   },
   "file_extension": ".py",
   "mimetype": "text/x-python",
   "name": "python",
   "nbconvert_exporter": "python",
   "pygments_lexer": "ipython3",
   "version": "3.11.5"
  },
  "orig_nbformat": 4
 },
 "nbformat": 4,
 "nbformat_minor": 2
}
