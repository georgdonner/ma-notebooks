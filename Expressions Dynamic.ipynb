{
 "cells": [
  {
   "cell_type": "code",
   "execution_count": 7,
   "metadata": {},
   "outputs": [],
   "source": [
    "import re\n",
    "from itertools import product, combinations_with_replacement\n",
    "from operator import itemgetter, add, mul, sub, truediv, pow\n",
    "from sympy import srepr, sympify, symbols, exp, sin, cos, ln, asin, acos\n",
    "x,c = symbols('x c')"
   ]
  },
  {
   "cell_type": "code",
   "execution_count": 2,
   "metadata": {},
   "outputs": [],
   "source": [
    "all_nodes = {\n",
    "    'x': {\n",
    "        'children': 0,\n",
    "        'op': x\n",
    "    },\n",
    "    'c': {\n",
    "        'children': 0,\n",
    "        'op': c # Konstante\n",
    "    },\n",
    "    'exp': {\n",
    "        'children': 1,\n",
    "        'op': exp\n",
    "    },\n",
    "    'ln': {\n",
    "        'children': 1,\n",
    "        'op': ln\n",
    "    },\n",
    "    'sin': {\n",
    "        'children': 1,\n",
    "        'op': sin\n",
    "    },\n",
    "    'cos': {\n",
    "        'children': 1,\n",
    "        'op': cos\n",
    "    },\n",
    "    'asin': {\n",
    "        'children': 1,\n",
    "        'op': asin\n",
    "    },\n",
    "    'acos': {\n",
    "        'children': 1,\n",
    "        'op': acos\n",
    "    },\n",
    "    '+': {\n",
    "        'children': 2,\n",
    "        'op': add,\n",
    "        'commutative': True\n",
    "    },\n",
    "    '-': {\n",
    "        'children': 2,\n",
    "        'op': sub,\n",
    "        'commutative': False\n",
    "    },\n",
    "    '*': {\n",
    "        'children': 2,\n",
    "        'op': mul,\n",
    "        'commutative': True\n",
    "    },\n",
    "    '/': {\n",
    "        'children': 2,\n",
    "        'op': truediv,\n",
    "        'commutative': False\n",
    "    },\n",
    "    # '**': {\n",
    "    #     'children': 2,\n",
    "    #     'op': pow,\n",
    "    #     'commutative': False\n",
    "    # }\n",
    "}"
   ]
  },
  {
   "cell_type": "code",
   "execution_count": 4,
   "metadata": {},
   "outputs": [],
   "source": [
    "def generate_expressions(sub_expressions):\n",
    "    for properties in all_nodes.values():\n",
    "        children, operation = itemgetter('children', 'op')(properties)\n",
    "        if children == 2 and properties['commutative'] == True:\n",
    "            for left, right in combinations_with_replacement(sub_expressions, 2):\n",
    "                left, right = sympify(left), sympify(right)\n",
    "                if (left == c and right == c) or (operation == add and left == right):\n",
    "                    pass\n",
    "                else:\n",
    "                    yield operation(left, right)\n",
    "        elif children == 2:\n",
    "            for left, right in product(sub_expressions, repeat=2):\n",
    "                left, right = sympify(left), sympify(right)\n",
    "                if left != right:\n",
    "                    yield operation(left, right)\n",
    "        elif children == 1:\n",
    "            for expr in sub_expressions:\n",
    "                expr = sympify(expr)\n",
    "                if expr != c:\n",
    "                    yield operation(expr)"
   ]
  },
  {
   "cell_type": "code",
   "execution_count": 8,
   "metadata": {},
   "outputs": [],
   "source": [
    "def save_expressions(depth):\n",
    "    uniques = set([x, c])\n",
    "    if depth > 1:\n",
    "        with open(f'uniques_ext_depth{depth - 1}.csv', 'r') as file:\n",
    "            for line in file:\n",
    "                uniques.add(line.strip())\n",
    "\n",
    "    with open(f'expressions_ext_depth{depth}.csv', 'w') as file:\n",
    "        for expr in generate_expressions(uniques):\n",
    "            expr_str = str(expr)\n",
    "            if 'x' in expr_str:\n",
    "                file.write(str(expr))\n",
    "                file.write('\\n')\n",
    "        for expr in uniques:\n",
    "            file.write(str(expr))\n",
    "            file.write('\\n')"
   ]
  },
  {
   "cell_type": "code",
   "execution_count": 12,
   "metadata": {},
   "outputs": [],
   "source": [
    "def cleanup_expressions(depth):\n",
    "    uniques = set()\n",
    "    with open(f'expressions_ext_depth{depth}.csv', 'r') as file:\n",
    "        for line in file:\n",
    "            # Filter out multiplications with an integer (always replacable by multiplication with c) and any c**2 (replacable with c)\n",
    "            if not (re.search('(?<!\\*)\\*?\\d\\*(x|c)', line) or 'c**2' in line):\n",
    "                uniques.add(line)\n",
    "    with open(f'uniques_ext_depth{depth}.csv', 'w') as file:\n",
    "        for line in uniques:\n",
    "            file.write(line)"
   ]
  },
  {
   "cell_type": "code",
   "execution_count": 14,
   "metadata": {},
   "outputs": [],
   "source": [
    "depth = 2\n",
    "save_expressions(depth)\n",
    "cleanup_expressions(depth)"
   ]
  },
  {
   "cell_type": "code",
   "execution_count": 16,
   "metadata": {},
   "outputs": [
    {
     "ename": "",
     "evalue": "",
     "output_type": "error",
     "traceback": [
      "\u001b[1;31mThe Kernel crashed while executing code in the the current cell or a previous cell. Please review the code in the cell(s) to identify a possible cause of the failure. Click <a href='https://aka.ms/vscodeJupyterKernelCrash'>here</a> for more info. View Jupyter <a href='command:jupyter.viewOutput'>log</a> for further details."
     ]
    }
   ],
   "source": [
    "cleanup_expressions(3)"
   ]
  }
 ],
 "metadata": {
  "kernelspec": {
   "display_name": "Python 3.11.5 ('base')",
   "language": "python",
   "name": "python3"
  },
  "language_info": {
   "codemirror_mode": {
    "name": "ipython",
    "version": 3
   },
   "file_extension": ".py",
   "mimetype": "text/x-python",
   "name": "python",
   "nbconvert_exporter": "python",
   "pygments_lexer": "ipython3",
   "version": "3.11.5"
  },
  "orig_nbformat": 4,
  "vscode": {
   "interpreter": {
    "hash": "57bc2b6ce032b5f0e93daa91901b7ea38a856826ef43aa9e95b6d3999f5310df"
   }
  }
 },
 "nbformat": 4,
 "nbformat_minor": 2
}
