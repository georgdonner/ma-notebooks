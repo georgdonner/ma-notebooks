{
 "cells": [
  {
   "cell_type": "markdown",
   "metadata": {},
   "source": [
    "# Steckbrief einer elementaren Funktion\n",
    "\n",
    "Zuerst wird in der gegebenen Funktion für alle 'c' eine zufällige Konstante aus der Menge {1,2,3} eingesetzt. Daher wird diese zunächst als String erwartet."
   ]
  },
  {
   "cell_type": "code",
   "execution_count": 82,
   "metadata": {},
   "outputs": [],
   "source": [
    "from sympy import *\n",
    "import re\n",
    "import random\n",
    "x = Symbol('x', real=True)\n",
    "\n",
    "f_str = '1/x+asin(x)'"
   ]
  },
  {
   "cell_type": "markdown",
   "metadata": {},
   "source": [
    "### Zufällig ausgewählte Funktion:"
   ]
  },
  {
   "cell_type": "code",
   "execution_count": 83,
   "metadata": {},
   "outputs": [
    {
     "name": "stdout",
     "output_type": "stream",
     "text": [
      "asin(x) + 1/x\n"
     ]
    },
    {
     "data": {
      "text/latex": [
       "$\\displaystyle \\operatorname{asin}{\\left(x \\right)} + \\frac{1}{x}$"
      ],
      "text/plain": [
       "asin(x) + 1/x"
      ]
     },
     "execution_count": 83,
     "metadata": {},
     "output_type": "execute_result"
    }
   ],
   "source": [
    "f = sympify(re.sub(r\"c(?!o)\", lambda m: str(random.choice([1,2,3])), f_str), locals={'x': x})\n",
    "print(f)\n",
    "f"
   ]
  },
  {
   "cell_type": "code",
   "execution_count": 84,
   "metadata": {},
   "outputs": [
    {
     "data": {
      "text/markdown": [
       "[Wolfram Alpha](https://www.wolframalpha.com/input?i=asin%28x%29+%2B+1%2Fx)"
      ],
      "text/plain": [
       "<IPython.core.display.Markdown object>"
      ]
     },
     "execution_count": 84,
     "metadata": {},
     "output_type": "execute_result"
    }
   ],
   "source": [
    "from IPython.display import Markdown\n",
    "from urllib.parse import quote_plus\n",
    "\n",
    "Markdown(f'[Wolfram Alpha](https://www.wolframalpha.com/input?i={quote_plus(str(f))})')"
   ]
  },
  {
   "cell_type": "markdown",
   "metadata": {},
   "source": [
    "### Definitionsbereich"
   ]
  },
  {
   "cell_type": "code",
   "execution_count": 85,
   "metadata": {},
   "outputs": [
    {
     "name": "stdout",
     "output_type": "stream",
     "text": [
      "Union(Interval.open(-oo, 0), Interval.open(0, oo))\n"
     ]
    },
    {
     "data": {
      "text/latex": [
       "$\\displaystyle \\left(-\\infty, 0\\right) \\cup \\left(0, \\infty\\right)$"
      ],
      "text/plain": [
       "Union(Interval.open(-oo, 0), Interval.open(0, oo))"
      ]
     },
     "execution_count": 85,
     "metadata": {},
     "output_type": "execute_result"
    }
   ],
   "source": [
    "domain = calculus.util.continuous_domain(f, x, S.Reals)\n",
    "print(str(domain))\n",
    "domain"
   ]
  },
  {
   "cell_type": "markdown",
   "metadata": {},
   "source": [
    "### Wertebereich\n",
    "\n",
    "**Achtung!** Der Wertebereich kann unter Umständen nicht berechenbar sein "
   ]
  },
  {
   "cell_type": "code",
   "execution_count": 86,
   "metadata": {},
   "outputs": [
    {
     "name": "stdout",
     "output_type": "stream",
     "text": [
      "Wertebereich nicht berechenbar\n"
     ]
    }
   ],
   "source": [
    "f_range = None\n",
    "try:\n",
    "    f_range = calculus.util.function_range(f, x, S.Reals)\n",
    "    print(str(f_range))\n",
    "except (NotImplementedError, ValueError, TypeError):\n",
    "    print('Wertebereich nicht berechenbar')\n",
    "f_range"
   ]
  },
  {
   "cell_type": "markdown",
   "metadata": {},
   "source": [
    "### Unstetigkeitsstellen"
   ]
  },
  {
   "cell_type": "code",
   "execution_count": 87,
   "metadata": {},
   "outputs": [
    {
     "name": "stdout",
     "output_type": "stream",
     "text": [
      "1  Unstetigkeitsstelle(n)\n",
      "Polstelle:  0\n"
     ]
    }
   ],
   "source": [
    "limits = {}\n",
    "try:\n",
    "    f_singularities = singularities(f, x, S.Reals)\n",
    "    if f_singularities.is_FiniteSet:\n",
    "        print(len(f_singularities), ' Unstetigkeitsstelle(n)')\n",
    "        for s in f_singularities:\n",
    "            left_limit = limit(f, x, s, '-')\n",
    "            right_limit = limit(f, x, s, '+')\n",
    "            limits[s] = (left_limit, right_limit)\n",
    "            f_x = f.subs(x, s)\n",
    "            if left_limit.is_real and left_limit == right_limit:\n",
    "                print('Hebbare Lücke: ', s)\n",
    "            elif left_limit.is_real and right_limit.is_real and left_limit != right_limit:\n",
    "                print('Sprungstelle: ', s)\n",
    "            elif any([not l for l in [left_limit, right_limit]]):\n",
    "                print('Wesentliche Singularität: ', s)\n",
    "            else:\n",
    "                print('Polstelle: ', s)\n",
    "            if f_x == left_limit:\n",
    "                print('(linksseitig)')\n",
    "            elif f_x == right_limit:\n",
    "                print('(rechtsseitig)')\n",
    "    else:\n",
    "        print('Unendlich Unstetigkeitsstellen')\n",
    "        print(f_singularities)\n",
    "        f_singularities = None\n",
    "except NotImplementedError:\n",
    "    print('Unstetigkeitsstellen nicht berechenbar')"
   ]
  },
  {
   "cell_type": "markdown",
   "metadata": {},
   "source": [
    "### Grenzwerte"
   ]
  },
  {
   "cell_type": "code",
   "execution_count": 102,
   "metadata": {},
   "outputs": [
    {
     "name": "stdout",
     "output_type": "stream",
     "text": [
      "Grenzwert bei  0 :  (-oo, oo)\n",
      "Grenzwert bei  -oo :  oo*I\n",
      "Grenzwert bei  oo :  -oo*I\n"
     ]
    }
   ],
   "source": [
    "for p in FiniteSet(-oo, oo):\n",
    "    try:\n",
    "        l = limit(f, x, p)\n",
    "        limits[p] = (l)\n",
    "    except (ValueError, NotImplementedError):\n",
    "        print('Grenzwert bei ', p, ' nicht berechenbar')\n",
    "\n",
    "for n, lim in limits.items():\n",
    "    print('Grenzwert bei ', n, ': ', lim)"
   ]
  },
  {
   "cell_type": "markdown",
   "metadata": {},
   "source": [
    "### Asymptoten"
   ]
  },
  {
   "cell_type": "code",
   "execution_count": 89,
   "metadata": {},
   "outputs": [
    {
     "name": "stdout",
     "output_type": "stream",
     "text": [
      "Keine Asymptoten\n"
     ]
    },
    {
     "data": {
      "text/plain": [
       "set()"
      ]
     },
     "execution_count": 89,
     "metadata": {},
     "output_type": "execute_result"
    }
   ],
   "source": [
    "# Calculation method taken from https://en.wikipedia.org/wiki/Asymptote#Elementary_methods_for_identifying_asymptotes\n",
    "# Also mentioned in https://encyclopediaofmath.org/index.php?title=Asymptote\n",
    "def asymptotes():\n",
    "    a = set()\n",
    "    if f.is_polynomial(x):\n",
    "        return a\n",
    "    for lim in [oo, -oo]:\n",
    "        try:\n",
    "            m = limit(f/x, x, lim)\n",
    "            if m.is_real:\n",
    "                n = limit(f-m*x, x, lim)\n",
    "                if n.is_real and n.is_number:\n",
    "                    a.add(m*x+n)\n",
    "        except NotImplementedError:\n",
    "            print('Asymptote nicht berechenbar')\n",
    "    return a\n",
    "\n",
    "a = asymptotes()\n",
    "print('Asymptoten' if a else 'Keine Asymptoten')\n",
    "a"
   ]
  },
  {
   "cell_type": "markdown",
   "metadata": {},
   "source": [
    "### Periodizität"
   ]
  },
  {
   "cell_type": "code",
   "execution_count": 90,
   "metadata": {},
   "outputs": [
    {
     "name": "stdout",
     "output_type": "stream",
     "text": [
      "Nicht periodisch\n"
     ]
    }
   ],
   "source": [
    "p = periodicity(f, x)\n",
    "print('Periodisch' if p else 'Nicht periodisch')\n",
    "p"
   ]
  },
  {
   "cell_type": "markdown",
   "metadata": {},
   "source": [
    "### y-Achsenschnitt"
   ]
  },
  {
   "cell_type": "code",
   "execution_count": 91,
   "metadata": {},
   "outputs": [
    {
     "name": "stdout",
     "output_type": "stream",
     "text": [
      "Kein y-Achsenschnittpunkt\n"
     ]
    }
   ],
   "source": [
    "y_intercept = f.subs(x, 0)\n",
    "if y_intercept.is_real:\n",
    "    print(y_intercept)\n",
    "else:\n",
    "    print('Kein y-Achsenschnittpunkt')"
   ]
  },
  {
   "cell_type": "markdown",
   "metadata": {},
   "source": [
    "### Nullstellen\n",
    "\n",
    "Eine Funktion kann eine endliche oder unendliche Menge an Nullstellen haben, daher muss hier differenziert werden.\n",
    "\n",
    "Die Funktion `solveset()` liefert die genaue Menge der Nullstellen algebraisch definiert. Diese ist jedoch für spätere Filterung schlechter geeignet."
   ]
  },
  {
   "cell_type": "code",
   "execution_count": 92,
   "metadata": {},
   "outputs": [
    {
     "name": "stdout",
     "output_type": "stream",
     "text": [
      "Complement(ConditionSet(Symbol('x', real=True), Equality(Add(Mul(Symbol('x', real=True), asin(Symbol('x', real=True))), Integer(1)), Integer(0)), Reals), FiniteSet(Integer(0)))\n",
      "Menge der Nullstellen ist unendlich\n"
     ]
    },
    {
     "data": {
      "text/latex": [
       "$\\displaystyle \\left\\{x\\; \\middle|\\; x \\in \\mathbb{R} \\wedge x \\operatorname{asin}{\\left(x \\right)} + 1 = 0 \\right\\} \\setminus \\left\\{0\\right\\}$"
      ],
      "text/plain": [
       "Complement(ConditionSet(x, Eq(x*asin(x) + 1, 0), Reals), {0})"
      ]
     },
     "execution_count": 92,
     "metadata": {},
     "output_type": "execute_result"
    }
   ],
   "source": [
    "all_zeros = solveset(f, x, S.Reals)\n",
    "infinite_zeros = not all_zeros.is_FiniteSet\n",
    "\n",
    "if infinite_zeros:\n",
    "    if isinstance(all_zeros, ConditionSet):\n",
    "        print('Menge der Nullstellen nicht berechnet')\n",
    "    else:\n",
    "        print(srepr(all_zeros))\n",
    "        print('Menge der Nullstellen ist unendlich')\n",
    "else:\n",
    "    print('Menge der Nullstellen ist endlich')\n",
    "all_zeros"
   ]
  },
  {
   "cell_type": "markdown",
   "metadata": {},
   "source": [
    "Mit Hilfe von `solve()` wird immer eine endliche Menge zurückgegeben, die allerdings im Falle unendlicher Nullstellen nicht vollständig ist (z.B. bei $sin(x)$):"
   ]
  },
  {
   "cell_type": "code",
   "execution_count": 93,
   "metadata": {},
   "outputs": [
    {
     "name": "stdout",
     "output_type": "stream",
     "text": [
      "Nullstellen nicht berechenbar\n"
     ]
    }
   ],
   "source": [
    "finite_zeros = None\n",
    "try:\n",
    "    finite_zeros = solve(f, x) if infinite_zeros else all_zeros\n",
    "    if len(finite_zeros) and not any([z.is_real for z in finite_zeros]):\n",
    "        print('Keine reellwertigen Nullstellen')\n",
    "except NotImplementedError:\n",
    "    print('Nullstellen nicht berechenbar')\n",
    "finite_zeros"
   ]
  },
  {
   "cell_type": "markdown",
   "metadata": {},
   "source": [
    "### Ableitung"
   ]
  },
  {
   "cell_type": "code",
   "execution_count": 94,
   "metadata": {},
   "outputs": [
    {
     "data": {
      "text/latex": [
       "$\\displaystyle \\frac{1}{\\sqrt{1 - x^{2}}} - \\frac{1}{x^{2}}$"
      ],
      "text/plain": [
       "1/sqrt(1 - x**2) - 1/x**2"
      ]
     },
     "execution_count": 94,
     "metadata": {},
     "output_type": "execute_result"
    }
   ],
   "source": [
    "fd = diff(f, x)\n",
    "fd"
   ]
  },
  {
   "cell_type": "markdown",
   "metadata": {},
   "source": [
    "### Extremstellen"
   ]
  },
  {
   "cell_type": "code",
   "execution_count": 95,
   "metadata": {},
   "outputs": [
    {
     "name": "stdout",
     "output_type": "stream",
     "text": [
      "Minimum:  sqrt(-1/2 + sqrt(5)/2)\n",
      "Maximum:  -sqrt(-1/2 + sqrt(5)/2)\n"
     ]
    }
   ],
   "source": [
    "fd_zeros = solveset(fd, x, domain)\n",
    "fdd = diff(fd, x)\n",
    "extrema = FiniteSet()\n",
    "if fd_zeros.is_empty:\n",
    "    print('Keine Extremstellen')\n",
    "elif fd_zeros.is_FiniteSet:\n",
    "    for z in fd_zeros:\n",
    "        val = fdd.subs(x, z)\n",
    "        if val.is_negative:\n",
    "            extrema += FiniteSet(z)\n",
    "            print('Maximum: ', z)\n",
    "        elif val.is_positive:\n",
    "            extrema += FiniteSet(z)\n",
    "            print('Minimum: ', z)\n",
    "else:\n",
    "    extrema = None\n",
    "    print('Extremstellen nicht elementar berechenbar oder unendlich')\n",
    "    print(fd_zeros)"
   ]
  },
  {
   "cell_type": "markdown",
   "metadata": {},
   "source": [
    "### Wendestellen"
   ]
  },
  {
   "cell_type": "code",
   "execution_count": 96,
   "metadata": {},
   "outputs": [
    {
     "name": "stdout",
     "output_type": "stream",
     "text": [
      "Keine Wendepunkte\n"
     ]
    }
   ],
   "source": [
    "fdd_zeros = solveset(fdd, x, domain)\n",
    "inflections = FiniteSet()\n",
    "if fdd_zeros.is_empty:\n",
    "    print('Keine Wendepunkte')\n",
    "elif fdd_zeros.is_FiniteSet:\n",
    "    fddd = diff(fd, x)\n",
    "    for z in fdd_zeros:\n",
    "        val = fddd.subs(x, z)\n",
    "        if not val.is_zero:\n",
    "            print('Wendepunkt: ', z)\n",
    "            inflections += FiniteSet(z)\n",
    "else:\n",
    "    inflections = None\n",
    "    print('Wendepunkte nicht elementar berechenbar oder unendlich')\n",
    "    print(fdd_zeros)"
   ]
  },
  {
   "cell_type": "markdown",
   "metadata": {},
   "source": [
    "### Monotonieintervalle"
   ]
  },
  {
   "cell_type": "code",
   "execution_count": 97,
   "metadata": {},
   "outputs": [
    {
     "name": "stdout",
     "output_type": "stream",
     "text": [
      "streng monoton fallend in  Interval.open(-sqrt(-1/2 + sqrt(5)/2), 0)\n",
      "streng monoton fallend in  Interval.open(0, sqrt(-1/2 + sqrt(5)/2))\n"
     ]
    }
   ],
   "source": [
    "# https://www.massmatics.de/merkzettel/#!144:Monotonie_von_Funktionen\n",
    "def monotonicity():\n",
    "    if f_singularities == None or extrema == None:\n",
    "        print('Monotonieintervalle nicht berechenbar oder unendlich')\n",
    "        return None\n",
    "    interval_points = list(f_singularities.union(extrema).union(FiniteSet(-oo, oo)))\n",
    "    interval_points.sort()\n",
    "    intervals = [Interval.open(prev, curr) for prev, curr in zip(interval_points, interval_points[1:])]\n",
    "    for interval in intervals:\n",
    "        if not interval.is_subset(domain):\n",
    "            pass\n",
    "        elif is_strictly_increasing(f, interval, x):\n",
    "            print('streng monoton steigend in ', interval)\n",
    "        elif is_strictly_decreasing(f, interval, x):\n",
    "            print('streng monoton fallend in ', interval)\n",
    "        elif is_increasing(f, interval, x):\n",
    "            print('monoton steigend in ', interval)\n",
    "        elif is_decreasing(f, interval, x):\n",
    "            print('monoton fallend in ', interval)\n",
    "\n",
    "monotonicity()"
   ]
  },
  {
   "cell_type": "markdown",
   "metadata": {},
   "source": [
    "### Konvexitäts-/Konkavitätsbereiche"
   ]
  },
  {
   "cell_type": "code",
   "execution_count": 98,
   "metadata": {},
   "outputs": [
    {
     "name": "stdout",
     "output_type": "stream",
     "text": [
      "konkav in  Interval.open(-oo, 0)\n",
      "konvex in  Interval.open(0, oo)\n"
     ]
    }
   ],
   "source": [
    "# https://www.massmatics.de/merkzettel/#!193:Konvexitaet\n",
    "def convexity():\n",
    "    if f_singularities == None or inflections == None:\n",
    "        print('Konvexitäts-/Konkavitätsbereiche nicht berechenbar oder unendlich')\n",
    "        return None\n",
    "    interval_points = list(f_singularities.union(inflections).union(FiniteSet(-oo, oo)))\n",
    "    interval_points.sort()\n",
    "    intervals = [Interval.open(prev, curr) for prev, curr in zip(interval_points, interval_points[1:])]\n",
    "    for interval in intervals:\n",
    "        if is_convex(f, x, domain=interval):\n",
    "            print('konvex in ', interval)\n",
    "        elif is_convex(-f, x, domain=interval):\n",
    "            print('konkav in ', interval)\n",
    "\n",
    "convexity()"
   ]
  },
  {
   "cell_type": "markdown",
   "metadata": {},
   "source": [
    "### Integral"
   ]
  },
  {
   "cell_type": "code",
   "execution_count": 99,
   "metadata": {},
   "outputs": [
    {
     "name": "stdout",
     "output_type": "stream",
     "text": [
      "Integral((x*asin(x) + 1)/x, x)\n",
      "Integrationsregeln:  {'PowerRule', 'ConstantTimesRule', 'ConstantRule', 'AddRule', 'ReciprocalRule', 'PartsRule', 'URule'}\n"
     ]
    },
    {
     "data": {
      "text/latex": [
       "$\\displaystyle x \\operatorname{asin}{\\left(x \\right)} + \\sqrt{1 - x^{2}} + \\log{\\left(x \\right)}$"
      ],
      "text/plain": [
       "x*asin(x) + sqrt(1 - x**2) + log(x)"
      ]
     },
     "execution_count": 99,
     "metadata": {},
     "output_type": "execute_result"
    }
   ],
   "source": [
    "from sympy.integrals.risch import NonElementaryIntegral\n",
    "from sympy.integrals.manualintegrate import integral_steps\n",
    "\n",
    "def calculate_integral():\n",
    "    integral = integrate(f, x, risch=True)\n",
    "    print(integral)\n",
    "    if isinstance(integral, NonElementaryIntegral):\n",
    "        print('Integral ist nicht elementar')\n",
    "        return None\n",
    "    # for arg in preorder_traversal(integral):\n",
    "    #     if isinstance(arg, Integral):\n",
    "    #         print('Integral nicht vollständig gelöst')\n",
    "    #         return integral\n",
    "    # Manuelle Integration\n",
    "    steps = integral_steps(f, x)\n",
    "    rules = set()\n",
    "    for match in re.finditer('\\w+Rule', str(steps)):\n",
    "        rules.add(match.group())\n",
    "    print('Integrationsregeln: ', rules)\n",
    "    return integrate(f, x)\n",
    "\n",
    "calculate_integral()"
   ]
  },
  {
   "cell_type": "markdown",
   "metadata": {},
   "source": [
    "#### Zum Rumprobieren"
   ]
  },
  {
   "cell_type": "code",
   "execution_count": 100,
   "metadata": {},
   "outputs": [
    {
     "ename": "ZeroDivisionError",
     "evalue": "",
     "output_type": "error",
     "traceback": [
      "\u001b[0;31m---------------------------------------------------------------------------\u001b[0m",
      "\u001b[0;31mZeroDivisionError\u001b[0m                         Traceback (most recent call last)",
      "\u001b[1;32m/Users/georg/Uni/Master/MA/Notebooks/Steckbrief.ipynb Cell 37\u001b[0m line \u001b[0;36m2\n\u001b[1;32m      <a href='vscode-notebook-cell:/Users/georg/Uni/Master/MA/Notebooks/Steckbrief.ipynb#X51sZmlsZQ%3D%3D?line=0'>1</a>\u001b[0m \u001b[39mfrom\u001b[39;00m \u001b[39mscipy\u001b[39;00m \u001b[39mimport\u001b[39;00m optimize\n\u001b[0;32m----> <a href='vscode-notebook-cell:/Users/georg/Uni/Master/MA/Notebooks/Steckbrief.ipynb#X51sZmlsZQ%3D%3D?line=1'>2</a>\u001b[0m n \u001b[39m=\u001b[39m nsolve(f, x, \u001b[39m0\u001b[39m, \u001b[39mdict\u001b[39m\u001b[39m=\u001b[39m\u001b[39mTrue\u001b[39;00m)\n\u001b[1;32m      <a href='vscode-notebook-cell:/Users/georg/Uni/Master/MA/Notebooks/Steckbrief.ipynb#X51sZmlsZQ%3D%3D?line=2'>3</a>\u001b[0m \u001b[39mprint\u001b[39m(n)\n\u001b[1;32m      <a href='vscode-notebook-cell:/Users/georg/Uni/Master/MA/Notebooks/Steckbrief.ipynb#X51sZmlsZQ%3D%3D?line=3'>4</a>\u001b[0m \u001b[39mif\u001b[39;00m \u001b[39mnot\u001b[39;00m \u001b[39mlen\u001b[39m(n):\n",
      "File \u001b[0;32m~/anaconda3/lib/python3.11/site-packages/sympy/utilities/decorator.py:88\u001b[0m, in \u001b[0;36mconserve_mpmath_dps.<locals>.func_wrapper\u001b[0;34m(*args, **kwargs)\u001b[0m\n\u001b[1;32m     86\u001b[0m dps \u001b[39m=\u001b[39m mpmath\u001b[39m.\u001b[39mmp\u001b[39m.\u001b[39mdps\n\u001b[1;32m     87\u001b[0m \u001b[39mtry\u001b[39;00m:\n\u001b[0;32m---> 88\u001b[0m     \u001b[39mreturn\u001b[39;00m func(\u001b[39m*\u001b[39margs, \u001b[39m*\u001b[39m\u001b[39m*\u001b[39mkwargs)\n\u001b[1;32m     89\u001b[0m \u001b[39mfinally\u001b[39;00m:\n\u001b[1;32m     90\u001b[0m     mpmath\u001b[39m.\u001b[39mmp\u001b[39m.\u001b[39mdps \u001b[39m=\u001b[39m dps\n",
      "File \u001b[0;32m~/anaconda3/lib/python3.11/site-packages/sympy/solvers/solvers.py:2979\u001b[0m, in \u001b[0;36mnsolve\u001b[0;34m(dict, *args, **kwargs)\u001b[0m\n\u001b[1;32m   2973\u001b[0m \u001b[39m# the function is much better behaved if there is no denominator\u001b[39;00m\n\u001b[1;32m   2974\u001b[0m \u001b[39m# but sending the numerator is left to the user since sometimes\u001b[39;00m\n\u001b[1;32m   2975\u001b[0m \u001b[39m# the function is better behaved when the denominator is present\u001b[39;00m\n\u001b[1;32m   2976\u001b[0m \u001b[39m# e.g., issue 11768\u001b[39;00m\n\u001b[1;32m   2978\u001b[0m f \u001b[39m=\u001b[39m lambdify(fargs, f, modules)\n\u001b[0;32m-> 2979\u001b[0m x \u001b[39m=\u001b[39m sympify(findroot(f, x0, \u001b[39m*\u001b[39m\u001b[39m*\u001b[39mkwargs))\n\u001b[1;32m   2980\u001b[0m \u001b[39mif\u001b[39;00m as_dict:\n\u001b[1;32m   2981\u001b[0m     \u001b[39mreturn\u001b[39;00m [{fargs: x}]\n",
      "File \u001b[0;32m~/anaconda3/lib/python3.11/site-packages/mpmath/calculus/optimization.py:937\u001b[0m, in \u001b[0;36mfindroot\u001b[0;34m(ctx, f, x0, solver, tol, verbose, verify, **kwargs)\u001b[0m\n\u001b[1;32m    935\u001b[0m \u001b[39m# detect multidimensional functions\u001b[39;00m\n\u001b[1;32m    936\u001b[0m \u001b[39mtry\u001b[39;00m:\n\u001b[0;32m--> 937\u001b[0m     fx \u001b[39m=\u001b[39m f(\u001b[39m*\u001b[39mx0)\n\u001b[1;32m    938\u001b[0m     multidimensional \u001b[39m=\u001b[39m \u001b[39misinstance\u001b[39m(fx, (\u001b[39mlist\u001b[39m, \u001b[39mtuple\u001b[39m, ctx\u001b[39m.\u001b[39mmatrix))\n\u001b[1;32m    939\u001b[0m \u001b[39mexcept\u001b[39;00m \u001b[39mTypeError\u001b[39;00m:\n",
      "File \u001b[0;32m<lambdifygenerated-4>:2\u001b[0m, in \u001b[0;36m_lambdifygenerated\u001b[0;34m(x)\u001b[0m\n\u001b[1;32m      1\u001b[0m \u001b[39mdef\u001b[39;00m \u001b[39m_lambdifygenerated\u001b[39m(x):\n\u001b[0;32m----> 2\u001b[0m     \u001b[39mreturn\u001b[39;00m asin(x) \u001b[39m+\u001b[39m \u001b[39m1\u001b[39m\u001b[39m/\u001b[39mx\n",
      "File \u001b[0;32m~/anaconda3/lib/python3.11/site-packages/mpmath/ctx_mp_python.py:205\u001b[0m, in \u001b[0;36m_mpf.__rdiv__\u001b[0;34m(s, t)\u001b[0m\n\u001b[1;32m    203\u001b[0m \u001b[39mif\u001b[39;00m \u001b[39misinstance\u001b[39m(t, int_types):\n\u001b[1;32m    204\u001b[0m     v \u001b[39m=\u001b[39m new(\u001b[39mcls\u001b[39m)\n\u001b[0;32m--> 205\u001b[0m     v\u001b[39m.\u001b[39m_mpf_ \u001b[39m=\u001b[39m mpf_rdiv_int(t, s\u001b[39m.\u001b[39m_mpf_, prec, rounding)\n\u001b[1;32m    206\u001b[0m     \u001b[39mreturn\u001b[39;00m v\n\u001b[1;32m    207\u001b[0m t \u001b[39m=\u001b[39m s\u001b[39m.\u001b[39mmpf_convert_lhs(t)\n",
      "File \u001b[0;32m~/anaconda3/lib/python3.11/site-packages/mpmath/libmp/libmpf.py:991\u001b[0m, in \u001b[0;36mmpf_rdiv_int\u001b[0;34m(n, t, prec, rnd)\u001b[0m\n\u001b[1;32m    989\u001b[0m sign, man, exp, bc \u001b[39m=\u001b[39m t\n\u001b[1;32m    990\u001b[0m \u001b[39mif\u001b[39;00m \u001b[39mnot\u001b[39;00m n \u001b[39mor\u001b[39;00m \u001b[39mnot\u001b[39;00m man:\n\u001b[0;32m--> 991\u001b[0m     \u001b[39mreturn\u001b[39;00m mpf_div(from_int(n), t, prec, rnd)\n\u001b[1;32m    992\u001b[0m \u001b[39mif\u001b[39;00m n \u001b[39m<\u001b[39m \u001b[39m0\u001b[39m:\n\u001b[1;32m    993\u001b[0m     sign \u001b[39m^\u001b[39m\u001b[39m=\u001b[39m \u001b[39m1\u001b[39m\n",
      "File \u001b[0;32m~/anaconda3/lib/python3.11/site-packages/mpmath/libmp/libmpf.py:960\u001b[0m, in \u001b[0;36mmpf_div\u001b[0;34m(s, t, prec, rnd)\u001b[0m\n\u001b[1;32m    958\u001b[0m     \u001b[39mreturn\u001b[39;00m fzero\n\u001b[1;32m    959\u001b[0m \u001b[39mif\u001b[39;00m t \u001b[39m==\u001b[39m fzero:\n\u001b[0;32m--> 960\u001b[0m     \u001b[39mraise\u001b[39;00m \u001b[39mZeroDivisionError\u001b[39;00m\n\u001b[1;32m    961\u001b[0m s_special \u001b[39m=\u001b[39m (\u001b[39mnot\u001b[39;00m sman) \u001b[39mand\u001b[39;00m sexp\n\u001b[1;32m    962\u001b[0m t_special \u001b[39m=\u001b[39m (\u001b[39mnot\u001b[39;00m tman) \u001b[39mand\u001b[39;00m texp\n",
      "\u001b[0;31mZeroDivisionError\u001b[0m: "
     ]
    }
   ],
   "source": [
    "from scipy import optimize\n",
    "n = nsolve(f, x, 0, dict=True)\n",
    "print(n)\n",
    "if not len(n):\n",
    "    nf = optimize.fsolve(lambdify(x, f, \"numpy\"), 0)\n",
    "    print(nf)"
   ]
  }
 ],
 "metadata": {
  "kernelspec": {
   "display_name": "Python 3.11.5 ('base')",
   "language": "python",
   "name": "python3"
  },
  "language_info": {
   "codemirror_mode": {
    "name": "ipython",
    "version": 3
   },
   "file_extension": ".py",
   "mimetype": "text/x-python",
   "name": "python",
   "nbconvert_exporter": "python",
   "pygments_lexer": "ipython3",
   "version": "3.11.5"
  },
  "orig_nbformat": 4,
  "vscode": {
   "interpreter": {
    "hash": "57bc2b6ce032b5f0e93daa91901b7ea38a856826ef43aa9e95b6d3999f5310df"
   }
  }
 },
 "nbformat": 4,
 "nbformat_minor": 2
}
