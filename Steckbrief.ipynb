{
 "cells": [
  {
   "cell_type": "markdown",
   "metadata": {},
   "source": [
    "# Steckbrief einer elementaren Funktion\n",
    "\n",
    "Zuerst wird in der gegebenen Funktion für alle 'c' eine zufällige Konstante aus der Menge {1,2,3} eingesetzt. Daher wird diese zunächst als String erwartet."
   ]
  },
  {
   "cell_type": "code",
   "execution_count": 64,
   "metadata": {},
   "outputs": [],
   "source": [
    "from sympy import *\n",
    "import re\n",
    "import random\n",
    "x = Symbol('x', real=True)\n",
    "\n",
    "f_str = 'sin(x)'"
   ]
  },
  {
   "cell_type": "markdown",
   "metadata": {},
   "source": [
    "### Zufällig ausgewählte Funktion:"
   ]
  },
  {
   "cell_type": "code",
   "execution_count": 65,
   "metadata": {},
   "outputs": [
    {
     "name": "stdout",
     "output_type": "stream",
     "text": [
      "sin(x)\n"
     ]
    },
    {
     "data": {
      "text/latex": [
       "$\\displaystyle \\sin{\\left(x \\right)}$"
      ],
      "text/plain": [
       "sin(x)"
      ]
     },
     "execution_count": 65,
     "metadata": {},
     "output_type": "execute_result"
    }
   ],
   "source": [
    "f = sympify(re.sub(r\"c(?!o)\", lambda m: str(random.choice([1,2,3])), f_str), locals={'x': x})\n",
    "print(f)\n",
    "f"
   ]
  },
  {
   "cell_type": "code",
   "execution_count": 66,
   "metadata": {},
   "outputs": [
    {
     "data": {
      "text/markdown": [
       "[Wolfram Alpha](https://www.wolframalpha.com/input?i=sin%28x%29)"
      ],
      "text/plain": [
       "<IPython.core.display.Markdown object>"
      ]
     },
     "execution_count": 66,
     "metadata": {},
     "output_type": "execute_result"
    }
   ],
   "source": [
    "from IPython.display import Markdown\n",
    "from urllib.parse import quote_plus\n",
    "\n",
    "Markdown(f'[Wolfram Alpha](https://www.wolframalpha.com/input?i={quote_plus(str(f))})')"
   ]
  },
  {
   "cell_type": "markdown",
   "metadata": {},
   "source": [
    "### Definitionsbereich"
   ]
  },
  {
   "cell_type": "code",
   "execution_count": 67,
   "metadata": {},
   "outputs": [
    {
     "name": "stdout",
     "output_type": "stream",
     "text": [
      "Reals\n"
     ]
    },
    {
     "data": {
      "text/latex": [
       "$\\displaystyle \\mathbb{R}$"
      ],
      "text/plain": [
       "Reals"
      ]
     },
     "execution_count": 67,
     "metadata": {},
     "output_type": "execute_result"
    }
   ],
   "source": [
    "domain = calculus.util.continuous_domain(f, x, S.Reals)\n",
    "print(str(domain))\n",
    "domain"
   ]
  },
  {
   "cell_type": "markdown",
   "metadata": {},
   "source": [
    "### Wertebereich\n",
    "\n",
    "**Achtung!** Der Wertebereich kann unter Umständen nicht berechenbar sein "
   ]
  },
  {
   "cell_type": "code",
   "execution_count": 68,
   "metadata": {},
   "outputs": [
    {
     "name": "stdout",
     "output_type": "stream",
     "text": [
      "Interval(-1, 1)\n"
     ]
    },
    {
     "data": {
      "text/latex": [
       "$\\displaystyle \\left[-1, 1\\right]$"
      ],
      "text/plain": [
       "Interval(-1, 1)"
      ]
     },
     "execution_count": 68,
     "metadata": {},
     "output_type": "execute_result"
    }
   ],
   "source": [
    "f_range = None\n",
    "try:\n",
    "    f_range = calculus.util.function_range(f, x, S.Reals)\n",
    "    print(str(f_range))\n",
    "except (NotImplementedError, ValueError, TypeError):\n",
    "    print('Wertebereich nicht berechenbar')\n",
    "f_range"
   ]
  },
  {
   "cell_type": "markdown",
   "metadata": {},
   "source": [
    "### Unstetigkeitsstellen"
   ]
  },
  {
   "cell_type": "code",
   "execution_count": 69,
   "metadata": {},
   "outputs": [
    {
     "name": "stdout",
     "output_type": "stream",
     "text": [
      "0  Unstetigkeitsstelle(n)\n"
     ]
    }
   ],
   "source": [
    "limits = {}\n",
    "try:\n",
    "    f_singularities = singularities(f, x, S.Reals)\n",
    "    if f_singularities.is_FiniteSet:\n",
    "        print(len(f_singularities), ' Unstetigkeitsstelle(n)')\n",
    "        for s in f_singularities:\n",
    "            left_limit = limit(f, x, s, '-')\n",
    "            right_limit = limit(f, x, s, '+')\n",
    "            limits[s] = (left_limit, right_limit)\n",
    "            f_x = f.subs(x, s)\n",
    "            if left_limit.is_real and left_limit == right_limit:\n",
    "                print('Hebbare Lücke: ', s)\n",
    "            elif left_limit.is_real and right_limit.is_real and left_limit != right_limit:\n",
    "                print('Sprungstelle: ', s)\n",
    "            elif any([not l for l in [left_limit, right_limit]]):\n",
    "                print('Wesentliche Singularität: ', s)\n",
    "            else:\n",
    "                print('Polstelle: ', s)\n",
    "            if f_x == left_limit:\n",
    "                print('(linksseitig)')\n",
    "            elif f_x == right_limit:\n",
    "                print('(rechtsseitig)')\n",
    "    else:\n",
    "        print('Unendlich Unstetigkeitsstellen')\n",
    "        print(f_singularities)\n",
    "        f_singularities = None\n",
    "except NotImplementedError:\n",
    "    print('Unstetigkeitsstellen nicht berechenbar')"
   ]
  },
  {
   "cell_type": "markdown",
   "metadata": {},
   "source": [
    "### Grenzwerte"
   ]
  },
  {
   "cell_type": "code",
   "execution_count": 70,
   "metadata": {},
   "outputs": [
    {
     "name": "stdout",
     "output_type": "stream",
     "text": [
      "Grenzwert bei  -oo :  AccumBounds(-1, 1)\n",
      "Grenzwert bei  oo :  AccumBounds(-1, 1)\n"
     ]
    }
   ],
   "source": [
    "for p in FiniteSet(-oo, oo):\n",
    "    try:\n",
    "        l = limit(f, x, p)\n",
    "        limits[p] = (l)\n",
    "    except (ValueError, NotImplementedError):\n",
    "        print('Grenzwert bei ', p, ' nicht berechenbar')\n",
    "\n",
    "for n, lim in limits.items():\n",
    "    print('Grenzwert bei ', n, ': ', lim)"
   ]
  },
  {
   "cell_type": "markdown",
   "metadata": {},
   "source": [
    "### Asymptoten"
   ]
  },
  {
   "cell_type": "code",
   "execution_count": 71,
   "metadata": {},
   "outputs": [
    {
     "name": "stdout",
     "output_type": "stream",
     "text": [
      "Keine Asymptoten\n"
     ]
    },
    {
     "data": {
      "text/plain": [
       "set()"
      ]
     },
     "execution_count": 71,
     "metadata": {},
     "output_type": "execute_result"
    }
   ],
   "source": [
    "# Calculation method taken from https://en.wikipedia.org/wiki/Asymptote#Elementary_methods_for_identifying_asymptotes\n",
    "# Also mentioned in https://encyclopediaofmath.org/index.php?title=Asymptote\n",
    "def asymptotes():\n",
    "    a = set()\n",
    "    for lim in [oo, -oo]:\n",
    "        try:\n",
    "            m = limit(f/x, x, lim)\n",
    "            if m.is_real:\n",
    "                n = limit(f-m*x, x, lim)\n",
    "                if n.is_real and n.is_number:\n",
    "                    a.add(m*x+n)\n",
    "        except NotImplementedError:\n",
    "            print('Asymptote nicht berechenbar')\n",
    "    return a\n",
    "\n",
    "a = asymptotes()\n",
    "print('Asymptoten' if a else 'Keine Asymptoten')\n",
    "a"
   ]
  },
  {
   "cell_type": "markdown",
   "metadata": {},
   "source": [
    "### Periodizität"
   ]
  },
  {
   "cell_type": "code",
   "execution_count": 72,
   "metadata": {},
   "outputs": [
    {
     "name": "stdout",
     "output_type": "stream",
     "text": [
      "Periodisch\n"
     ]
    },
    {
     "data": {
      "text/latex": [
       "$\\displaystyle 2 \\pi$"
      ],
      "text/plain": [
       "2*pi"
      ]
     },
     "execution_count": 72,
     "metadata": {},
     "output_type": "execute_result"
    }
   ],
   "source": [
    "p = periodicity(f, x)\n",
    "print('Periodisch' if p else 'Nicht periodisch')\n",
    "p"
   ]
  },
  {
   "cell_type": "markdown",
   "metadata": {},
   "source": [
    "### y-Achsenschnitt"
   ]
  },
  {
   "cell_type": "code",
   "execution_count": 73,
   "metadata": {},
   "outputs": [
    {
     "name": "stdout",
     "output_type": "stream",
     "text": [
      "0\n"
     ]
    }
   ],
   "source": [
    "y_intercept = f.subs(x, 0)\n",
    "if y_intercept.is_real:\n",
    "    print(y_intercept)\n",
    "else:\n",
    "    print('Kein y-Achsenschnittpunkt')"
   ]
  },
  {
   "cell_type": "markdown",
   "metadata": {},
   "source": [
    "### Nullstellen\n",
    "\n",
    "Eine Funktion kann eine endliche oder unendliche Menge an Nullstellen haben, daher muss hier differenziert werden.\n",
    "\n",
    "Die Funktion `solveset()` liefert die genaue Menge der Nullstellen algebraisch definiert. Diese ist jedoch für spätere Filterung schlechter geeignet."
   ]
  },
  {
   "cell_type": "code",
   "execution_count": 74,
   "metadata": {},
   "outputs": [
    {
     "name": "stdout",
     "output_type": "stream",
     "text": [
      "Menge der Nullstellen ist unendlich\n"
     ]
    },
    {
     "data": {
      "text/latex": [
       "$\\displaystyle \\left\\{2 n \\pi\\; \\middle|\\; n \\in \\mathbb{Z}\\right\\} \\cup \\left\\{2 n \\pi + \\pi\\; \\middle|\\; n \\in \\mathbb{Z}\\right\\}$"
      ],
      "text/plain": [
       "Union(ImageSet(Lambda(_n, 2*_n*pi + pi), Integers), ImageSet(Lambda(_n, 2*_n*pi), Integers))"
      ]
     },
     "execution_count": 74,
     "metadata": {},
     "output_type": "execute_result"
    }
   ],
   "source": [
    "all_zeros = solveset(f, x, S.Reals)\n",
    "infinite_zeros = not all_zeros.is_FiniteSet\n",
    "\n",
    "if infinite_zeros:\n",
    "    if isinstance(all_zeros, ConditionSet):\n",
    "        print('Menge der Nullstellen nicht berechnet')\n",
    "    else:\n",
    "        print('Menge der Nullstellen ist unendlich')\n",
    "else:\n",
    "    print('Menge der Nullstellen ist endlich')\n",
    "all_zeros"
   ]
  },
  {
   "cell_type": "markdown",
   "metadata": {},
   "source": [
    "Mit Hilfe von `solve()` wird immer eine endliche Menge zurückgegeben, die allerdings im Falle unendlicher Nullstellen nicht vollständig ist (z.B. bei $sin(x)$):"
   ]
  },
  {
   "cell_type": "code",
   "execution_count": 75,
   "metadata": {},
   "outputs": [
    {
     "data": {
      "text/plain": [
       "[0, pi]"
      ]
     },
     "execution_count": 75,
     "metadata": {},
     "output_type": "execute_result"
    }
   ],
   "source": [
    "finite_zeros = None\n",
    "try:\n",
    "    finite_zeros = solve(f, x) if infinite_zeros else all_zeros\n",
    "    if len(finite_zeros) and not any([z.is_real for z in finite_zeros]):\n",
    "        print('Keine reellwertigen Nullstellen')\n",
    "except NotImplementedError:\n",
    "    print('Nullstellen nicht berechenbar')\n",
    "finite_zeros"
   ]
  },
  {
   "cell_type": "markdown",
   "metadata": {},
   "source": [
    "### Ableitung"
   ]
  },
  {
   "cell_type": "code",
   "execution_count": 76,
   "metadata": {},
   "outputs": [
    {
     "data": {
      "text/latex": [
       "$\\displaystyle \\cos{\\left(x \\right)}$"
      ],
      "text/plain": [
       "cos(x)"
      ]
     },
     "execution_count": 76,
     "metadata": {},
     "output_type": "execute_result"
    }
   ],
   "source": [
    "fd = diff(f, x)\n",
    "fd"
   ]
  },
  {
   "cell_type": "markdown",
   "metadata": {},
   "source": [
    "### Extremstellen"
   ]
  },
  {
   "cell_type": "code",
   "execution_count": 77,
   "metadata": {},
   "outputs": [
    {
     "name": "stdout",
     "output_type": "stream",
     "text": [
      "Extremstellen nicht elementar berechenbar oder unendlich\n",
      "Union(ImageSet(Lambda(_n, 2*_n*pi + pi/2), Integers), ImageSet(Lambda(_n, 2*_n*pi + 3*pi/2), Integers))\n"
     ]
    }
   ],
   "source": [
    "fd_zeros = solveset(fd, x, domain)\n",
    "fdd = diff(fd, x)\n",
    "extrema = FiniteSet()\n",
    "if fd_zeros.is_empty:\n",
    "    print('Keine Extremstellen')\n",
    "elif fd_zeros.is_FiniteSet:\n",
    "    for z in fd_zeros:\n",
    "        val = fdd.subs(x, z)\n",
    "        if val.is_negative:\n",
    "            extrema += FiniteSet(z)\n",
    "            print('Maximum: ', z)\n",
    "        elif val.is_positive:\n",
    "            extrema += FiniteSet(z)\n",
    "            print('Minimum: ', z)\n",
    "else:\n",
    "    extrema = None\n",
    "    print('Extremstellen nicht elementar berechenbar oder unendlich')\n",
    "    print(fd_zeros)"
   ]
  },
  {
   "cell_type": "markdown",
   "metadata": {},
   "source": [
    "### Wendestellen"
   ]
  },
  {
   "cell_type": "code",
   "execution_count": 78,
   "metadata": {},
   "outputs": [
    {
     "name": "stdout",
     "output_type": "stream",
     "text": [
      "Wendepunkte nicht elementar berechenbar oder unendlich\n",
      "Union(ImageSet(Lambda(_n, 2*_n*pi + pi), Integers), ImageSet(Lambda(_n, 2*_n*pi), Integers))\n"
     ]
    }
   ],
   "source": [
    "fdd_zeros = solveset(fdd, x, domain)\n",
    "inflections = FiniteSet()\n",
    "if fdd_zeros.is_empty:\n",
    "    print('Keine Wendepunkte')\n",
    "elif fdd_zeros.is_FiniteSet:\n",
    "    fddd = diff(fd, x)\n",
    "    for z in fdd_zeros:\n",
    "        val = fddd.subs(x, z)\n",
    "        if not val.is_zero:\n",
    "            print('Wendepunkt: ', z)\n",
    "            inflections += FiniteSet(z)\n",
    "else:\n",
    "    inflections = None\n",
    "    print('Wendepunkte nicht elementar berechenbar oder unendlich')\n",
    "    print(fdd_zeros)"
   ]
  },
  {
   "cell_type": "markdown",
   "metadata": {},
   "source": [
    "### Monotonieintervalle"
   ]
  },
  {
   "cell_type": "code",
   "execution_count": 79,
   "metadata": {},
   "outputs": [
    {
     "name": "stdout",
     "output_type": "stream",
     "text": [
      "Monotonieintervalle nicht berechenbar oder unendlich\n"
     ]
    }
   ],
   "source": [
    "# https://www.massmatics.de/merkzettel/#!144:Monotonie_von_Funktionen\n",
    "def monotonicity():\n",
    "    if f_singularities == None or extrema == None:\n",
    "        print('Monotonieintervalle nicht berechenbar oder unendlich')\n",
    "        return None\n",
    "    interval_points = list(f_singularities.union(extrema).union(FiniteSet(-oo, oo)))\n",
    "    interval_points.sort()\n",
    "    intervals = [Interval.open(prev, curr) for prev, curr in zip(interval_points, interval_points[1:])]\n",
    "    for interval in intervals:\n",
    "        if not interval.is_subset(domain):\n",
    "            pass\n",
    "        elif is_strictly_increasing(f, interval, x):\n",
    "            print('streng monoton steigend in ', interval)\n",
    "        elif is_strictly_decreasing(f, interval, x):\n",
    "            print('streng monoton fallend in ', interval)\n",
    "        elif is_increasing(f, interval, x):\n",
    "            print('monoton steigend in ', interval)\n",
    "        elif is_decreasing(f, interval, x):\n",
    "            print('monoton fallend in ', interval)\n",
    "\n",
    "monotonicity()"
   ]
  },
  {
   "cell_type": "markdown",
   "metadata": {},
   "source": [
    "### Konvexitäts-/Konkavitätsbereiche"
   ]
  },
  {
   "cell_type": "code",
   "execution_count": 80,
   "metadata": {},
   "outputs": [
    {
     "name": "stdout",
     "output_type": "stream",
     "text": [
      "Konvexitäts-/Konkavitätsbereiche nicht berechenbar oder unendlich\n"
     ]
    }
   ],
   "source": [
    "# https://www.massmatics.de/merkzettel/#!193:Konvexitaet\n",
    "def convexity():\n",
    "    if f_singularities == None or inflections == None:\n",
    "        print('Konvexitäts-/Konkavitätsbereiche nicht berechenbar oder unendlich')\n",
    "        return None\n",
    "    interval_points = list(f_singularities.union(inflections).union(FiniteSet(-oo, oo)))\n",
    "    interval_points.sort()\n",
    "    intervals = [Interval.open(prev, curr) for prev, curr in zip(interval_points, interval_points[1:])]\n",
    "    print(intervals)\n",
    "    for interval in intervals:\n",
    "        if is_convex(f, x, domain=interval):\n",
    "            print('konvex in ', interval)\n",
    "        elif is_convex(-f, x, domain=interval):\n",
    "            print('konkav in ', interval)\n",
    "\n",
    "convexity()"
   ]
  },
  {
   "cell_type": "markdown",
   "metadata": {},
   "source": [
    "### Integral"
   ]
  },
  {
   "cell_type": "code",
   "execution_count": 81,
   "metadata": {},
   "outputs": [
    {
     "name": "stdout",
     "output_type": "stream",
     "text": [
      "Integrationsregeln:  {'TrigRule'}\n"
     ]
    },
    {
     "data": {
      "text/latex": [
       "$\\displaystyle - \\cos{\\left(x \\right)}$"
      ],
      "text/plain": [
       "-cos(x)"
      ]
     },
     "execution_count": 81,
     "metadata": {},
     "output_type": "execute_result"
    }
   ],
   "source": [
    "from sympy.integrals.risch import NonElementaryIntegral\n",
    "from sympy.integrals.manualintegrate import integral_steps\n",
    "\n",
    "def calculate_integral():\n",
    "    integral = integrate(f, x, risch=True)\n",
    "    if isinstance(integral, NonElementaryIntegral):\n",
    "        print('Integral ist nicht elementar')\n",
    "        return None\n",
    "    # for arg in preorder_traversal(integral):\n",
    "    #     if isinstance(arg, Integral):\n",
    "    #         print('Integral nicht vollständig gelöst')\n",
    "    #         return integral\n",
    "    # Manuelle Integration\n",
    "    steps = integral_steps(f, x)\n",
    "    rules = set()\n",
    "    for match in re.finditer('\\w+Rule', str(steps)):\n",
    "        rules.add(match.group())\n",
    "    print('Integrationsregeln: ', rules)\n",
    "    return integrate(f, x)\n",
    "\n",
    "calculate_integral()"
   ]
  },
  {
   "cell_type": "markdown",
   "metadata": {},
   "source": [
    "#### Zum Rumprobieren"
   ]
  },
  {
   "cell_type": "code",
   "execution_count": 85,
   "metadata": {},
   "outputs": [
    {
     "name": "stdout",
     "output_type": "stream",
     "text": [
      "[{x: 0}]\n"
     ]
    }
   ],
   "source": [
    "from scipy import optimize\n",
    "n = nsolve(f, x, 0, dict=True)\n",
    "print(n)\n",
    "if not len(n):\n",
    "    nf = optimize.fsolve(lambdify(x, f, \"numpy\"), 0)\n",
    "    print(nf)"
   ]
  }
 ],
 "metadata": {
  "kernelspec": {
   "display_name": "Python 3.11.5 ('base')",
   "language": "python",
   "name": "python3"
  },
  "language_info": {
   "codemirror_mode": {
    "name": "ipython",
    "version": 3
   },
   "file_extension": ".py",
   "mimetype": "text/x-python",
   "name": "python",
   "nbconvert_exporter": "python",
   "pygments_lexer": "ipython3",
   "version": "3.11.5"
  },
  "orig_nbformat": 4,
  "vscode": {
   "interpreter": {
    "hash": "57bc2b6ce032b5f0e93daa91901b7ea38a856826ef43aa9e95b6d3999f5310df"
   }
  }
 },
 "nbformat": 4,
 "nbformat_minor": 2
}
