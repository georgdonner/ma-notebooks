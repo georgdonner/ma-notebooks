{
 "cells": [
  {
   "cell_type": "markdown",
   "metadata": {},
   "source": [
    "# Steckbrief einer elementaren Funktion\n",
    "\n",
    "Zuerst wird in der gegebenen Funktion für alle 'c' eine zufällige Konstante aus der Menge {1,2,3} eingesetzt. Daher wird diese zunächst als String erwartet."
   ]
  },
  {
   "cell_type": "code",
   "execution_count": 117,
   "metadata": {},
   "outputs": [],
   "source": [
    "from sympy import *\n",
    "import re\n",
    "import random\n",
    "x,c = symbols('x c')\n",
    "\n",
    "f_str = 'c+c*(x**2-c)/x**4'"
   ]
  },
  {
   "cell_type": "markdown",
   "metadata": {},
   "source": [
    "### Zufällig ausgewählte Funktion:"
   ]
  },
  {
   "cell_type": "code",
   "execution_count": 118,
   "metadata": {},
   "outputs": [
    {
     "name": "stdout",
     "output_type": "stream",
     "text": [
      "3 + (3*x**2 - 3)/x**4\n"
     ]
    },
    {
     "data": {
      "text/latex": [
       "$\\displaystyle 3 + \\frac{3 x^{2} - 3}{x^{4}}$"
      ],
      "text/plain": [
       "3 + (3*x**2 - 3)/x**4"
      ]
     },
     "execution_count": 118,
     "metadata": {},
     "output_type": "execute_result"
    }
   ],
   "source": [
    "f = sympify(re.sub(r\"c(?!o)\", lambda m: str(random.choice([1,2,3])), f_str))\n",
    "print(f)\n",
    "f"
   ]
  },
  {
   "cell_type": "markdown",
   "metadata": {},
   "source": [
    "### Definitionsbereich"
   ]
  },
  {
   "cell_type": "code",
   "execution_count": 119,
   "metadata": {},
   "outputs": [
    {
     "name": "stdout",
     "output_type": "stream",
     "text": [
      "Union(Interval.open(-oo, 0), Interval.open(0, oo))\n"
     ]
    },
    {
     "data": {
      "text/latex": [
       "$\\displaystyle \\left(-\\infty, 0\\right) \\cup \\left(0, \\infty\\right)$"
      ],
      "text/plain": [
       "Union(Interval.open(-oo, 0), Interval.open(0, oo))"
      ]
     },
     "execution_count": 119,
     "metadata": {},
     "output_type": "execute_result"
    }
   ],
   "source": [
    "domain = calculus.util.continuous_domain(f, x, S.Reals)\n",
    "print(str(domain))\n",
    "domain"
   ]
  },
  {
   "cell_type": "markdown",
   "metadata": {},
   "source": [
    "### Wertebereich\n",
    "\n",
    "**Achtung!** Der Wertebereich kann unter Umständen nicht berechenbar sein "
   ]
  },
  {
   "cell_type": "code",
   "execution_count": 120,
   "metadata": {},
   "outputs": [
    {
     "name": "stdout",
     "output_type": "stream",
     "text": [
      "Interval(-oo, 15/4)\n"
     ]
    },
    {
     "data": {
      "text/latex": [
       "$\\displaystyle \\left(-\\infty, \\frac{15}{4}\\right]$"
      ],
      "text/plain": [
       "Interval(-oo, 15/4)"
      ]
     },
     "execution_count": 120,
     "metadata": {},
     "output_type": "execute_result"
    }
   ],
   "source": [
    "f_range = None\n",
    "try:\n",
    "    f_range = calculus.util.function_range(f, x, S.Reals)\n",
    "    print(str(f_range))\n",
    "except NotImplementedError:\n",
    "    print('Wertebereich nicht berechenbar')\n",
    "f_range"
   ]
  },
  {
   "cell_type": "markdown",
   "metadata": {},
   "source": [
    "### Unstetigkeitsstellen"
   ]
  },
  {
   "cell_type": "code",
   "execution_count": 121,
   "metadata": {},
   "outputs": [
    {
     "name": "stdout",
     "output_type": "stream",
     "text": [
      "1  Unstetigkeitsstelle(n)\n",
      "Polstelle:  0\n"
     ]
    }
   ],
   "source": [
    "try:\n",
    "    f_singularities = singularities(f, x, S.Reals)\n",
    "    if f_singularities.is_FiniteSet:\n",
    "        print(len(f_singularities), ' Unstetigkeitsstelle(n)')\n",
    "        for s in f_singularities:\n",
    "            left_limit = limit(f, x, s, '-')\n",
    "            right_limit = limit(f, x, s, '+')\n",
    "            f_x = f.subs(x, s)\n",
    "            if left_limit.is_real and left_limit == right_limit:\n",
    "                print('Hebbare Lücke: ', s)\n",
    "            elif left_limit.is_real and right_limit.is_real and left_limit != right_limit:\n",
    "                print('Sprungstelle: ', s)\n",
    "            elif any([not l for l in [left_limit, right_limit]]):\n",
    "                print('Wesentliche Singularität: ', s)\n",
    "            else:\n",
    "                print('Polstelle: ', s)\n",
    "            if f_x == left_limit:\n",
    "                print('(linksseitig)')\n",
    "            elif f_x == right_limit:\n",
    "                print('(rechtsseitig)')\n",
    "    else:\n",
    "        print('Unendlich Unstetigkeitsstellen')\n",
    "        print(f_singularities)\n",
    "        f_singularities = None\n",
    "except NotImplementedError:\n",
    "    print('Unstetigkeitsstellen nicht berechenbar')"
   ]
  },
  {
   "cell_type": "markdown",
   "metadata": {},
   "source": [
    "### Grenzwerte"
   ]
  },
  {
   "cell_type": "code",
   "execution_count": 122,
   "metadata": {},
   "outputs": [
    {
     "name": "stdout",
     "output_type": "stream",
     "text": [
      "Grenzwert bei  -oo :  3\n",
      "Grenzwert bei  0 :  -oo\n",
      "Grenzwert bei  oo :  3\n"
     ]
    }
   ],
   "source": [
    "points = FiniteSet(-oo, oo)\n",
    "if f_singularities:\n",
    "    points += f_singularities\n",
    "for p in points:\n",
    "    l = limit(f, x, p)\n",
    "    print('Grenzwert bei ', p, ': ', l)"
   ]
  },
  {
   "cell_type": "markdown",
   "metadata": {},
   "source": [
    "### Asymptoten"
   ]
  },
  {
   "cell_type": "code",
   "execution_count": 123,
   "metadata": {},
   "outputs": [
    {
     "name": "stdout",
     "output_type": "stream",
     "text": [
      "Asymptoten\n"
     ]
    },
    {
     "data": {
      "text/plain": [
       "{3}"
      ]
     },
     "execution_count": 123,
     "metadata": {},
     "output_type": "execute_result"
    }
   ],
   "source": [
    "# Calculation method taken from https://en.wikipedia.org/wiki/Asymptote#Elementary_methods_for_identifying_asymptotes\n",
    "# Also mentioned in https://encyclopediaofmath.org/index.php?title=Asymptote\n",
    "def asymptotes():\n",
    "    a = set()\n",
    "    for lim in [oo, -oo]:\n",
    "        m = limit(f/x, x, lim)\n",
    "        if m.is_real:\n",
    "            n = limit(f-m*x, x, lim)\n",
    "            if n.is_real:\n",
    "                a.add(m*x+n)\n",
    "    return a\n",
    "\n",
    "a = asymptotes()\n",
    "print('Asymptoten' if a else 'Keine Asymptoten')\n",
    "a"
   ]
  },
  {
   "cell_type": "markdown",
   "metadata": {},
   "source": [
    "### Periodizität"
   ]
  },
  {
   "cell_type": "code",
   "execution_count": 124,
   "metadata": {},
   "outputs": [
    {
     "name": "stdout",
     "output_type": "stream",
     "text": [
      "Nicht periodisch\n"
     ]
    }
   ],
   "source": [
    "p = periodicity(f, x)\n",
    "print('Periodisch' if p else 'Nicht periodisch')\n",
    "p"
   ]
  },
  {
   "cell_type": "markdown",
   "metadata": {},
   "source": [
    "### y-Achsenschnitt"
   ]
  },
  {
   "cell_type": "code",
   "execution_count": 125,
   "metadata": {},
   "outputs": [
    {
     "data": {
      "text/latex": [
       "$\\displaystyle \\tilde{\\infty}$"
      ],
      "text/plain": [
       "zoo"
      ]
     },
     "execution_count": 125,
     "metadata": {},
     "output_type": "execute_result"
    }
   ],
   "source": [
    "y_intercept = f.subs(x, 0)\n",
    "y_intercept"
   ]
  },
  {
   "cell_type": "markdown",
   "metadata": {},
   "source": [
    "### Nullstellen\n",
    "\n",
    "Eine Funktion kann eine endliche oder unendliche Menge an Nullstellen haben, daher muss hier differenziert werden.\n",
    "\n",
    "Die Funktion `solveset()` liefert die genaue Menge der Nullstellen algebraisch definiert. Diese ist jedoch für spätere Filterung schlechter geeignet."
   ]
  },
  {
   "cell_type": "code",
   "execution_count": 126,
   "metadata": {},
   "outputs": [
    {
     "name": "stdout",
     "output_type": "stream",
     "text": [
      "Menge der Nullstellen ist endlich\n"
     ]
    },
    {
     "data": {
      "text/latex": [
       "$\\displaystyle \\left\\{- \\sqrt{- \\frac{1}{2} + \\frac{\\sqrt{5}}{2}}, \\sqrt{- \\frac{1}{2} + \\frac{\\sqrt{5}}{2}}\\right\\}$"
      ],
      "text/plain": [
       "{-sqrt(-1/2 + sqrt(5)/2), sqrt(-1/2 + sqrt(5)/2)}"
      ]
     },
     "execution_count": 126,
     "metadata": {},
     "output_type": "execute_result"
    }
   ],
   "source": [
    "all_zeros = solveset(f, x, S.Reals)\n",
    "infinite_zeros = not all_zeros.is_FiniteSet\n",
    "\n",
    "if infinite_zeros:\n",
    "    print('Menge der Nullstellen ist unendlich')\n",
    "else:\n",
    "    print('Menge der Nullstellen ist endlich')\n",
    "all_zeros"
   ]
  },
  {
   "cell_type": "markdown",
   "metadata": {},
   "source": [
    "Mit Hilfe von `solve()` wird immer eine endliche Menge zurückgegeben, die allerdings im Falle unendlicher Nullstellen nicht vollständig ist (z.B. bei $sin(x)$):"
   ]
  },
  {
   "cell_type": "code",
   "execution_count": 127,
   "metadata": {},
   "outputs": [
    {
     "data": {
      "text/latex": [
       "$\\displaystyle \\left\\{- \\sqrt{- \\frac{1}{2} + \\frac{\\sqrt{5}}{2}}, \\sqrt{- \\frac{1}{2} + \\frac{\\sqrt{5}}{2}}\\right\\}$"
      ],
      "text/plain": [
       "{-sqrt(-1/2 + sqrt(5)/2), sqrt(-1/2 + sqrt(5)/2)}"
      ]
     },
     "execution_count": 127,
     "metadata": {},
     "output_type": "execute_result"
    }
   ],
   "source": [
    "finite_zeros = solve(f, x) if infinite_zeros else all_zeros\n",
    "finite_zeros"
   ]
  },
  {
   "cell_type": "markdown",
   "metadata": {},
   "source": [
    "### Ableitung"
   ]
  },
  {
   "cell_type": "code",
   "execution_count": 128,
   "metadata": {},
   "outputs": [
    {
     "data": {
      "text/latex": [
       "$\\displaystyle \\frac{6}{x^{3}} - \\frac{4 \\cdot \\left(3 x^{2} - 3\\right)}{x^{5}}$"
      ],
      "text/plain": [
       "6/x**3 - 4*(3*x**2 - 3)/x**5"
      ]
     },
     "execution_count": 128,
     "metadata": {},
     "output_type": "execute_result"
    }
   ],
   "source": [
    "fd = diff(f, x)\n",
    "fd"
   ]
  },
  {
   "cell_type": "markdown",
   "metadata": {},
   "source": [
    "### Extremstellen"
   ]
  },
  {
   "cell_type": "code",
   "execution_count": 129,
   "metadata": {},
   "outputs": [
    {
     "name": "stdout",
     "output_type": "stream",
     "text": [
      "Maximum:  sqrt(2)\n",
      "Maximum:  -sqrt(2)\n"
     ]
    }
   ],
   "source": [
    "fd_zeros = solveset(fd, x, S.Reals)\n",
    "fdd = diff(fd, x)\n",
    "extrema = FiniteSet()\n",
    "if fd_zeros.is_empty:\n",
    "    print('Keine Extremstellen')\n",
    "elif fd_zeros.is_FiniteSet:\n",
    "    for z in fd_zeros:\n",
    "        val = fdd.subs(x, z)\n",
    "        if val.is_negative:\n",
    "            extrema += FiniteSet(z)\n",
    "            print('Maximum: ', z)\n",
    "        elif val.is_positive:\n",
    "            extrema += FiniteSet(z)\n",
    "            print('Minimum: ', z)\n",
    "else:\n",
    "    extrema = None\n",
    "    print('Extremstellen nicht elementar berechenbar oder unendlich')\n",
    "    print(fd_zeros)"
   ]
  },
  {
   "cell_type": "markdown",
   "metadata": {},
   "source": [
    "### Wendestellen"
   ]
  },
  {
   "cell_type": "code",
   "execution_count": 130,
   "metadata": {},
   "outputs": [],
   "source": [
    "fdd_zeros = solveset(fdd, x, S.Reals)\n",
    "inflections = FiniteSet()\n",
    "if fdd_zeros.is_empty:\n",
    "    print('Keine Wendepunkte')\n",
    "elif fdd_zeros.is_FiniteSet:\n",
    "    fddd = diff(fd, x)\n",
    "    for z in fdd_zeros:\n",
    "        val = fddd.subs(x, z)\n",
    "        if not val.is_zero:\n",
    "            print('Wendepunkt: z')\n",
    "            inflections += FiniteSet(z)\n",
    "else:\n",
    "    inflections = None\n",
    "    print('Wendepunkte nicht elementar berechenbar oder unendlich')\n",
    "    print(fdd_zeros)"
   ]
  },
  {
   "cell_type": "markdown",
   "metadata": {},
   "source": [
    "### Monotonieintervalle"
   ]
  },
  {
   "cell_type": "code",
   "execution_count": 134,
   "metadata": {},
   "outputs": [
    {
     "name": "stdout",
     "output_type": "stream",
     "text": [
      "monoton steigend in  Interval(-oo, -sqrt(2))\n",
      "monoton fallend in  Interval(sqrt(2), oo)\n"
     ]
    }
   ],
   "source": [
    "# https://www.massmatics.de/merkzettel/#!144:Monotonie_von_Funktionen\n",
    "def monotonicity():\n",
    "    if f_singularities == None or extrema == None:\n",
    "        print('Monotonieintervalle nicht berechenbar oder unendlich')\n",
    "        return None\n",
    "    interval_points = list(f_singularities.union(extrema).union(FiniteSet(-oo, oo)))\n",
    "    interval_points.sort()\n",
    "    intervals = [Interval(prev, curr) for prev, curr in zip(interval_points, interval_points[1:])]\n",
    "    for interval in intervals:\n",
    "        if is_strictly_increasing(f, interval, x):\n",
    "            print('streng monoton steigend in ', interval)\n",
    "        elif is_strictly_decreasing(f, interval, x):\n",
    "            print('streng monoton fallend in ', interval)\n",
    "        elif is_increasing(f, interval, x):\n",
    "            print('monoton steigend in ', interval)\n",
    "        elif is_decreasing(f, interval, x):\n",
    "            print('monoton fallend in ', interval)\n",
    "\n",
    "monotonicity()"
   ]
  },
  {
   "cell_type": "markdown",
   "metadata": {},
   "source": [
    "### Konvexitäts-/Konkavitätsbereiche"
   ]
  },
  {
   "cell_type": "code",
   "execution_count": 132,
   "metadata": {},
   "outputs": [],
   "source": [
    "# https://www.massmatics.de/merkzettel/#!193:Konvexitaet\n",
    "def convexity():\n",
    "    if f_singularities == None or inflections == None:\n",
    "        print('Konvexitäts-/Konkavitätsbereiche nicht berechenbar oder unendlich')\n",
    "        return None\n",
    "    interval_points = list(f_singularities.union(inflections).union(FiniteSet(-oo, oo)))\n",
    "    interval_points.sort()\n",
    "    intervals = [Interval(prev, curr) for prev, curr in zip(interval_points, interval_points[1:])]\n",
    "    for interval in intervals:\n",
    "        if is_convex(f, x, domain=interval):\n",
    "            print('konvex in ', interval)\n",
    "        elif is_convex(-f, x, domain=interval):\n",
    "            print('konkav in ', interval)\n",
    "\n",
    "convexity()"
   ]
  }
 ],
 "metadata": {
  "kernelspec": {
   "display_name": "Python 3.11.5 ('base')",
   "language": "python",
   "name": "python3"
  },
  "language_info": {
   "codemirror_mode": {
    "name": "ipython",
    "version": 3
   },
   "file_extension": ".py",
   "mimetype": "text/x-python",
   "name": "python",
   "nbconvert_exporter": "python",
   "pygments_lexer": "ipython3",
   "version": "3.11.5"
  },
  "orig_nbformat": 4,
  "vscode": {
   "interpreter": {
    "hash": "57bc2b6ce032b5f0e93daa91901b7ea38a856826ef43aa9e95b6d3999f5310df"
   }
  }
 },
 "nbformat": 4,
 "nbformat_minor": 2
}
