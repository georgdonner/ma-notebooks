{
 "cells": [
  {
   "cell_type": "markdown",
   "id": "bb5e63a4",
   "metadata": {},
   "source": [
    "# Evaluierung der generierten Ausdrücke mit Sympy"
   ]
  },
  {
   "cell_type": "code",
   "execution_count": 6,
   "id": "a16bcdf9",
   "metadata": {},
   "outputs": [],
   "source": [
    "from sympy import *\n",
    "import numpy as np\n",
    "from itertools import product, combinations_with_replacement, chain\n",
    "from operator import itemgetter, add\n",
    "x,y = symbols('x y')"
   ]
  },
  {
   "cell_type": "markdown",
   "id": "57cff3f0",
   "metadata": {},
   "source": [
    "## Definitions- und Wertebereich\n",
    "\n",
    "Für den **Definitionsbereich** kann die Funktion `continuous_domain` genutzt werden:"
   ]
  },
  {
   "cell_type": "code",
   "execution_count": 38,
   "id": "9f9000b8",
   "metadata": {},
   "outputs": [
    {
     "data": {
      "text/latex": [
       "$\\displaystyle \\left(-\\infty, 0\\right) \\cup \\left(0, \\infty\\right)$"
      ],
      "text/plain": [
       "Union(Interval.open(-oo, 0), Interval.open(0, oo))"
      ]
     },
     "execution_count": 38,
     "metadata": {},
     "output_type": "execute_result"
    }
   ],
   "source": [
    "f = 1/x\n",
    "calculus.util.continuous_domain(f, x, S.Reals)"
   ]
  },
  {
   "cell_type": "markdown",
   "id": "65f443e3",
   "metadata": {},
   "source": [
    "Für den **Wertebereich** gibt es die Funktion `function_range`, diese wirft allerdings einen Fehler falls dieser nicht berechenbar ist:"
   ]
  },
  {
   "cell_type": "code",
   "execution_count": 60,
   "id": "b8884db0",
   "metadata": {},
   "outputs": [
    {
     "data": {
      "text/latex": [
       "$\\displaystyle \\left[- \\frac{1}{4}, \\infty\\right)$"
      ],
      "text/plain": [
       "Interval(-1/4, oo)"
      ]
     },
     "execution_count": 60,
     "metadata": {},
     "output_type": "execute_result"
    }
   ],
   "source": [
    "f = (x+2)*(x+1)\n",
    "calculus.util.function_range(f, x, S.Reals)"
   ]
  },
  {
   "cell_type": "code",
   "execution_count": 18,
   "id": "848b0018",
   "metadata": {},
   "outputs": [
    {
     "name": "stdout",
     "output_type": "stream",
     "text": [
      "Not able to calculate range\n"
     ]
    }
   ],
   "source": [
    "f = sin(x)/x\n",
    "try:\n",
    "  calculus.util.function_range(f, x, S.Reals)\n",
    "except NotImplementedError:\n",
    "  print('Not able to calculate range')"
   ]
  },
  {
   "cell_type": "markdown",
   "id": "11807f7e",
   "metadata": {},
   "source": [
    "### Unstetigkeitsstellen\n",
    "\n",
    "Mit der Funktion `singularities` können Unstetigkeitsstellen gefunden werden, allerdings wurde noch keine Funktion gefunden, die herausfinden kann um welche Art Unstetigkeitsstelle es sich dabei handelt.\n",
    "\n",
    "Weiterhin kann auch diese Funktion einen Fehler werfen, falls diese nicht berechenbar sind."
   ]
  },
  {
   "cell_type": "code",
   "execution_count": 96,
   "id": "25fae862",
   "metadata": {},
   "outputs": [
    {
     "data": {
      "text/latex": [
       "$\\displaystyle \\left\\{2\\right\\}$"
      ],
      "text/plain": [
       "{2}"
      ]
     },
     "execution_count": 96,
     "metadata": {},
     "output_type": "execute_result"
    }
   ],
   "source": [
    "f = 1/(x-2)\n",
    "singularities(f, x)"
   ]
  },
  {
   "cell_type": "markdown",
   "id": "6facad23",
   "metadata": {},
   "source": [
    "### Periodizität\n",
    "\n",
    "Hierfür gibt es die Funktion `periodicity`"
   ]
  },
  {
   "cell_type": "code",
   "execution_count": 41,
   "id": "e6a00970",
   "metadata": {},
   "outputs": [
    {
     "data": {
      "text/latex": [
       "$\\displaystyle 2 \\pi$"
      ],
      "text/plain": [
       "2*pi"
      ]
     },
     "execution_count": 41,
     "metadata": {},
     "output_type": "execute_result"
    }
   ],
   "source": [
    "periodicity(sin(x), x)"
   ]
  },
  {
   "cell_type": "markdown",
   "id": "f73cd255",
   "metadata": {},
   "source": [
    "## y-Achsenschnitt & Nullstellen\n",
    "\n",
    "### Nullstellen\n",
    "\n",
    "Nullstellen können einfach mit `roots` berechnet werden. Diese haben dann die Form {Nullstelle: Ordnung} - dadurch kann gleichzeitig festgestellt werden, ob die Nullstelle ein Wende- oder Sattelpunkt ist."
   ]
  },
  {
   "cell_type": "code",
   "execution_count": 80,
   "id": "c7ee8aba",
   "metadata": {},
   "outputs": [
    {
     "data": {
      "text/plain": [
       "{-3: 1, 0: 2}"
      ]
     },
     "execution_count": 80,
     "metadata": {},
     "output_type": "execute_result"
    }
   ],
   "source": [
    "f = x**3 + 3*x**2\n",
    "roots(f, x)"
   ]
  },
  {
   "cell_type": "markdown",
   "id": "1284adff",
   "metadata": {},
   "source": [
    "### y-Achsenschnitt\n",
    "\n",
    "Für den y-Achsenschnitt kann einfach für x = 0 eingesetzt werden."
   ]
  },
  {
   "cell_type": "code",
   "execution_count": 94,
   "id": "fb0ff072",
   "metadata": {},
   "outputs": [
    {
     "data": {
      "text/latex": [
       "$\\displaystyle \\frac{1}{2}$"
      ],
      "text/plain": [
       "1/2"
      ]
     },
     "execution_count": 94,
     "metadata": {},
     "output_type": "execute_result"
    }
   ],
   "source": [
    "f = 1/(x+2)\n",
    "f.subs(x, 0)"
   ]
  },
  {
   "cell_type": "markdown",
   "id": "8e9819a8",
   "metadata": {},
   "source": [
    "## Ableitungen\n",
    "\n",
    "Die Ableitung kann mit Hilfe von `diff` gebildet werden."
   ]
  },
  {
   "cell_type": "code",
   "execution_count": 65,
   "id": "be56dd0d",
   "metadata": {},
   "outputs": [
    {
     "data": {
      "text/latex": [
       "$\\displaystyle 2 x e^{x^{2}}$"
      ],
      "text/plain": [
       "2*x*exp(x**2)"
      ]
     },
     "execution_count": 65,
     "metadata": {},
     "output_type": "execute_result"
    }
   ],
   "source": [
    "diff(exp(x**2), x)"
   ]
  },
  {
   "cell_type": "markdown",
   "id": "0214ec50",
   "metadata": {},
   "source": [
    "### Lokale & globale Minima/Maxima & Wendepunkte\n",
    "\n",
    "Dies kann mit Hilfe von `solveset` auf den Ableitungen der Funktion berechnet werden."
   ]
  },
  {
   "cell_type": "code",
   "execution_count": 83,
   "id": "8a81715d",
   "metadata": {},
   "outputs": [
    {
     "name": "stdout",
     "output_type": "stream",
     "text": [
      "Maximum:  -2\n",
      "Minimum:  0\n",
      "Wendepunkte: {-1}\n"
     ]
    }
   ],
   "source": [
    "f = x**3 + 3*x**2\n",
    "fd = diff(f)\n",
    "fdd = diff(fd)\n",
    "fddd = diff(fdd)\n",
    "\n",
    "for root in solveset(fd, x):\n",
    "  val = fdd.subs(x, root)\n",
    "  if val < 0:\n",
    "    print('Maximum: ', root)\n",
    "  elif val > 0:\n",
    "    print('Minimum: ', root)\n",
    "\n",
    "print('Wendepunkte:', solveset(fdd, x))"
   ]
  },
  {
   "cell_type": "markdown",
   "id": "67500306",
   "metadata": {},
   "source": [
    "## Integration\n",
    "\n",
    "Generell kann das Integral einer Funktion mit `integrate` bestimmt werden. Durch den Parameter `risch=True` und der Überprüfung dessen Typs kann gleichzeitig bestimmt werden, ob die Stammfunktion noch elementar ist, siehe [Sympy Docs](https://docs.sympy.org/latest/modules/integrals/integrals.html#sympy.integrals.risch.NonElementaryIntegral)."
   ]
  },
  {
   "cell_type": "code",
   "execution_count": 90,
   "id": "94cef60c",
   "metadata": {},
   "outputs": [
    {
     "name": "stdout",
     "output_type": "stream",
     "text": [
      "<class 'sympy.integrals.risch.NonElementaryIntegral'>\n"
     ]
    },
    {
     "data": {
      "text/latex": [
       "$\\displaystyle \\int e^{e^{x}}\\, dx$"
      ],
      "text/plain": [
       "Integral(exp(exp(x)), x)"
      ]
     },
     "execution_count": 90,
     "metadata": {},
     "output_type": "execute_result"
    }
   ],
   "source": [
    "a = integrate(exp(exp(x)), x, risch=True)\n",
    "print(type(a))\n",
    "a"
   ]
  },
  {
   "cell_type": "code",
   "execution_count": 98,
   "id": "911e5c95",
   "metadata": {},
   "outputs": [
    {
     "data": {
      "text/latex": [
       "$\\displaystyle \\operatorname{Poly}{\\left( x + 1, x, domain=\\mathbb{Z} \\right)}$"
      ],
      "text/plain": [
       "Poly(x + 1, x, domain='ZZ')"
      ]
     },
     "execution_count": 98,
     "metadata": {},
     "output_type": "execute_result"
    }
   ],
   "source": [
    "Poly(x**2 - 1, x).exquo(Poly(x - 1, x))"
   ]
  }
 ],
 "metadata": {
  "kernelspec": {
   "display_name": "Python 3 (ipykernel)",
   "language": "python",
   "name": "python3"
  },
  "language_info": {
   "codemirror_mode": {
    "name": "ipython",
    "version": 3
   },
   "file_extension": ".py",
   "mimetype": "text/x-python",
   "name": "python",
   "nbconvert_exporter": "python",
   "pygments_lexer": "ipython3",
   "version": "3.11.5"
  }
 },
 "nbformat": 4,
 "nbformat_minor": 5
}
