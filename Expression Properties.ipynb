{
 "cells": [
  {
   "cell_type": "markdown",
   "id": "bb5e63a4",
   "metadata": {},
   "source": [
    "# Evaluierung der generierten Ausdrücke mit Sympy"
   ]
  },
  {
   "cell_type": "code",
   "execution_count": 3,
   "id": "a16bcdf9",
   "metadata": {},
   "outputs": [],
   "source": [
    "from sympy import *\n",
    "import numpy as np\n",
    "from itertools import product, combinations_with_replacement, chain\n",
    "from operator import itemgetter, add\n",
    "x,y = symbols('x y')"
   ]
  },
  {
   "cell_type": "markdown",
   "id": "57cff3f0",
   "metadata": {},
   "source": [
    "## Definitions- und Wertebereich\n",
    "\n",
    "Für den **Definitionsbereich** kann die Funktion `continuous_domain` genutzt werden:"
   ]
  },
  {
   "cell_type": "code",
   "execution_count": 17,
   "id": "9f9000b8",
   "metadata": {},
   "outputs": [
    {
     "name": "stdout",
     "output_type": "stream",
     "text": [
      "Complement(Reals, Union(ImageSet(Lambda(_n, 2*_n*pi + pi), Integers), ImageSet(Lambda(_n, 2*_n*pi), Integers)))\n"
     ]
    }
   ],
   "source": [
    "f = sympify(\"Add(Mul(Symbol('c'), Pow(Symbol('x'), Integer(-1))), Mul(Symbol('c'), Pow(Symbol('x'), Integer(-1)), Pow(sin(Symbol('x')), Integer(-1))), Integer(-1))\")\n",
    "d = calculus.util.continuous_domain(f, x, S.Reals)\n",
    "print(d)"
   ]
  },
  {
   "cell_type": "markdown",
   "id": "65f443e3",
   "metadata": {},
   "source": [
    "Für den **Wertebereich** gibt es die Funktion `function_range`, diese wirft allerdings einen Fehler falls dieser nicht berechenbar ist:"
   ]
  },
  {
   "cell_type": "code",
   "execution_count": 16,
   "id": "b8884db0",
   "metadata": {},
   "outputs": [
    {
     "name": "stdout",
     "output_type": "stream",
     "text": [
      "Interval(-1/4, oo)\n"
     ]
    }
   ],
   "source": [
    "f = (x+2)*(x+1)\n",
    "r = calculus.util.function_range(f, x, S.Reals)\n",
    "print(r)"
   ]
  },
  {
   "cell_type": "code",
   "execution_count": 18,
   "id": "848b0018",
   "metadata": {},
   "outputs": [
    {
     "name": "stdout",
     "output_type": "stream",
     "text": [
      "Not able to calculate range\n"
     ]
    }
   ],
   "source": [
    "f = sin(x)/x\n",
    "try:\n",
    "  calculus.util.function_range(f, x, S.Reals)\n",
    "except NotImplementedError:\n",
    "  print('Not able to calculate range')"
   ]
  },
  {
   "cell_type": "markdown",
   "id": "11807f7e",
   "metadata": {},
   "source": [
    "### Unstetigkeitsstellen\n",
    "\n",
    "Mit der Funktion `singularities` können Unstetigkeitsstellen gefunden werden, allerdings wurde noch keine Funktion gefunden, die herausfinden kann um welche Art Unstetigkeitsstelle es sich dabei handelt.\n",
    "\n",
    "Weiterhin kann auch diese Funktion einen Fehler werfen, falls diese nicht berechenbar sind."
   ]
  },
  {
   "cell_type": "code",
   "execution_count": 49,
   "id": "25fae862",
   "metadata": {},
   "outputs": [
    {
     "data": {
      "image/png": "[encoded data removed]",
      "text/latex": [
       "$\\displaystyle \\left\\{0\\right\\}$"
      ],
      "text/plain": [
       "{0}"
      ]
     },
     "execution_count": 49,
     "metadata": {},
     "output_type": "execute_result"
    }
   ],
   "source": [
    "f = 1+4*(x**2-1)/x**4\n",
    "singularities(f, x)"
   ]
  },
  {
   "cell_type": "markdown",
   "id": "6facad23",
   "metadata": {},
   "source": [
    "### Periodizität\n",
    "\n",
    "Hierfür gibt es die Funktion `periodicity`"
   ]
  },
  {
   "cell_type": "code",
   "execution_count": 8,
   "id": "e6a00970",
   "metadata": {},
   "outputs": [],
   "source": [
    "f = sympify(\"Add(Mul(Symbol('c'), Pow(Symbol('x'), Integer(-1))), Mul(Symbol('c'), Pow(Symbol('x'), Integer(-1)), Pow(sin(Symbol('x')), Integer(-1))), Integer(-1))\")\n",
    "periodicity(f, x)"
   ]
  },
  {
   "cell_type": "markdown",
   "id": "f73cd255",
   "metadata": {},
   "source": [
    "## y-Achsenschnitt & Nullstellen\n",
    "\n",
    "### Nullstellen\n",
    "\n",
    "Nullstellen können einfach mit `roots` berechnet werden. Diese haben dann die Form {Nullstelle: Ordnung} - dadurch kann gleichzeitig festgestellt werden, ob die Nullstelle ein Wende- oder Sattelpunkt ist."
   ]
  },
  {
   "cell_type": "code",
   "execution_count": 15,
   "id": "c7ee8aba",
   "metadata": {},
   "outputs": [
    {
     "data": {
      "text/plain": [
       "'[0, pi]'"
      ]
     },
     "execution_count": 15,
     "metadata": {},
     "output_type": "execute_result"
    }
   ],
   "source": [
    "f = sin(x)\n",
    "str(solve(f, x))"
   ]
  },
  {
   "cell_type": "markdown",
   "id": "1284adff",
   "metadata": {},
   "source": [
    "### y-Achsenschnitt\n",
    "\n",
    "Für den y-Achsenschnitt kann einfach für x = 0 eingesetzt werden."
   ]
  },
  {
   "cell_type": "code",
   "execution_count": 23,
   "id": "fb0ff072",
   "metadata": {},
   "outputs": [
    {
     "data": {
      "text/latex": [
       "$\\displaystyle \\text{NaN}$"
      ],
      "text/plain": [
       "nan"
      ]
     },
     "execution_count": 23,
     "metadata": {},
     "output_type": "execute_result"
    }
   ],
   "source": [
    "f = sympify(\"Add(Mul(Integer(2), Pow(Symbol('x'), Integer(-1))), Mul(Integer(2), Pow(Symbol('x'), Integer(-1)), Pow(sin(Symbol('x')), Integer(-1))), Integer(-1))\")\n",
    "f.subs(x, 0)"
   ]
  },
  {
   "cell_type": "markdown",
   "id": "8e9819a8",
   "metadata": {},
   "source": [
    "## Ableitungen\n",
    "\n",
    "Die Ableitung kann mit Hilfe von `diff` gebildet werden."
   ]
  },
  {
   "cell_type": "code",
   "execution_count": 24,
   "id": "be56dd0d",
   "metadata": {},
   "outputs": [
    {
     "data": {
      "text/latex": [
       "$\\displaystyle - \\frac{2 \\cos{\\left(x \\right)}}{x \\sin^{2}{\\left(x \\right)}} - \\frac{2}{x^{2}} - \\frac{2}{x^{2} \\sin{\\left(x \\right)}}$"
      ],
      "text/plain": [
       "-2*cos(x)/(x*sin(x)**2) - 2/x**2 - 2/(x**2*sin(x))"
      ]
     },
     "execution_count": 24,
     "metadata": {},
     "output_type": "execute_result"
    }
   ],
   "source": [
    "f = sympify(\"Add(Mul(Integer(2), Pow(Symbol('x'), Integer(-1))), Mul(Integer(2), Pow(Symbol('x'), Integer(-1)), Pow(sin(Symbol('x')), Integer(-1))), Integer(-1))\")\n",
    "diff(f, x)"
   ]
  },
  {
   "cell_type": "markdown",
   "id": "0214ec50",
   "metadata": {},
   "source": [
    "### Lokale & globale Minima/Maxima & Wendepunkte\n",
    "\n",
    "Dies kann mit Hilfe von `solveset` auf den Ableitungen der Funktion berechnet werden."
   ]
  },
  {
   "cell_type": "code",
   "execution_count": 28,
   "id": "8a81715d",
   "metadata": {},
   "outputs": [
    {
     "name": "stdout",
     "output_type": "stream",
     "text": [
      "-1 + 2/x + 2/(x*sin(x))\n"
     ]
    },
    {
     "data": {
      "text/latex": [
       "$\\displaystyle \\left\\{x\\; \\middle|\\; x \\in \\mathbb{C} \\wedge - 2 x \\cos{\\left(x \\right)} - 2 \\sin^{2}{\\left(x \\right)} - 2 \\sin{\\left(x \\right)} = 0 \\right\\} \\setminus \\left(\\left\\{2 n \\pi\\; \\middle|\\; n \\in \\mathbb{Z}\\right\\} \\cup \\left\\{2 n \\pi + \\pi\\; \\middle|\\; n \\in \\mathbb{Z}\\right\\}\\right)$"
      ],
      "text/plain": [
       "Complement(ConditionSet(x, Eq(-2*x*cos(x) - 2*sin(x)**2 - 2*sin(x), 0), Complexes), Union(ImageSet(Lambda(_n, 2*_n*pi + pi), Integers), ImageSet(Lambda(_n, 2*_n*pi), Integers)))"
      ]
     },
     "execution_count": 28,
     "metadata": {},
     "output_type": "execute_result"
    }
   ],
   "source": [
    "f = sympify(\"Add(Mul(Integer(2), Pow(Symbol('x'), Integer(-1))), Mul(Integer(2), Pow(Symbol('x'), Integer(-1)), Pow(sin(Symbol('x')), Integer(-1))), Integer(-1))\")\n",
    "print(f)\n",
    "fd = diff(f)\n",
    "fdd = diff(fd)\n",
    "\n",
    "solveset(fd, x)\n",
    "\n",
    "# for root in solveset(fd, x):\n",
    "#   val = fdd.subs(x, root)\n",
    "#   if val < 0:\n",
    "#     print('Maximum: ', root)\n",
    "#   elif val > 0:\n",
    "#     print('Minimum: ', root)\n",
    "\n",
    "# print('Wendepunkte:', solveset(fdd, x))"
   ]
  },
  {
   "cell_type": "markdown",
   "id": "67500306",
   "metadata": {},
   "source": [
    "## Integration\n",
    "\n",
    "Generell kann das Integral einer Funktion mit `integrate` bestimmt werden. Durch den Parameter `risch=True` und der Überprüfung dessen Typs kann gleichzeitig bestimmt werden, ob die Stammfunktion noch elementar ist, siehe [Sympy Docs](https://docs.sympy.org/latest/modules/integrals/integrals.html#sympy.integrals.risch.NonElementaryIntegral)."
   ]
  },
  {
   "cell_type": "code",
   "execution_count": 4,
   "id": "94cef60c",
   "metadata": {},
   "outputs": [
    {
     "name": "stdout",
     "output_type": "stream",
     "text": [
      "<class 'sympy.core.mul.Mul'>\n"
     ]
    },
    {
     "data": {
      "text/latex": [
       "$\\displaystyle \\frac{e^{x^{2}}}{2}$"
      ],
      "text/plain": [
       "exp(x**2)/2"
      ]
     },
     "execution_count": 4,
     "metadata": {},
     "output_type": "execute_result"
    }
   ],
   "source": [
    "a = integrate(x*exp(x**2), x, risch=True)\n",
    "print(type(a))\n",
    "a"
   ]
  },
  {
   "cell_type": "code",
   "execution_count": 98,
   "id": "911e5c95",
   "metadata": {},
   "outputs": [
    {
     "data": {
      "text/latex": [
       "$\\displaystyle \\operatorname{Poly}{\\left( x + 1, x, domain=\\mathbb{Z} \\right)}$"
      ],
      "text/plain": [
       "Poly(x + 1, x, domain='ZZ')"
      ]
     },
     "execution_count": 98,
     "metadata": {},
     "output_type": "execute_result"
    }
   ],
   "source": [
    "Poly(x**2 - 1, x).exquo(Poly(x - 1, x))"
   ]
  },
  {
   "cell_type": "markdown",
   "id": "b0eb5ae9",
   "metadata": {},
   "source": [
    "## Asymptoten\n",
    "\n",
    "### Vertikale Asymptoten\n",
    "\n",
    "Hierfür bestimmen wir erst die Unstetigkeitsstellen der Funktion und beobachten dann den Grenzwert an diesen Stellen. Falls dieser (-)Unendlich ist, haben wir hier eine vertikale Asymptote...?\n",
    "\n",
    "**Problem:** Unstetigkeitsstellen sind nicht zwingend eine endliche Liste, daher gibt es nicht zwingend eine endliche Anzahl an Asymptoten"
   ]
  },
  {
   "cell_type": "code",
   "execution_count": 55,
   "id": "21b86eb3",
   "metadata": {},
   "outputs": [
    {
     "name": "stdout",
     "output_type": "stream",
     "text": [
      "oo\n",
      "-oo\n"
     ]
    }
   ],
   "source": [
    "f = 1/x\n",
    "for s in singularities(f, x):\n",
    "    print(limit(f, x, s, '+'))\n",
    "    print(limit(f, x, s, '-'))"
   ]
  },
  {
   "cell_type": "markdown",
   "id": "3cceaa88",
   "metadata": {},
   "source": [
    "### Horizontale Asymptoten\n",
    "\n",
    "Hierfür bestimmen wir den Grenzwert bei Unendlich und -Unendlich. Falls dabei reelle Zahlen rauskommen, haben wir dort horizontale Asymptoten."
   ]
  },
  {
   "cell_type": "code",
   "execution_count": 48,
   "id": "7576b27e",
   "metadata": {},
   "outputs": [
    {
     "name": "stdout",
     "output_type": "stream",
     "text": [
      "1 + (4*x**2 - 4)/x**4\n",
      "1 1\n",
      "1 + sin(5*x)/(2*x)\n",
      "1 1\n"
     ]
    }
   ],
   "source": [
    "f = 1+4*(x**2-1)/x**4\n",
    "print(f)\n",
    "l1 = limit(f, x, oo)\n",
    "l2 = limit(f, x, -oo)\n",
    "\n",
    "print(l1, l2)\n",
    "\n",
    "g = 1+sin(5*x)/(2*x)\n",
    "print(g)\n",
    "l1 = limit(g, x, oo)\n",
    "l2 = limit(g, x, -oo)\n",
    "\n",
    "print(l1, l2)"
   ]
  },
  {
   "cell_type": "code",
   "execution_count": 63,
   "id": "a5f8c1ab",
   "metadata": {},
   "outputs": [
    {
     "data": {
      "image/png": "[encoded data removed]",
      "text/latex": [
       "$\\displaystyle \\operatorname{Poly}{\\left( x^{2} + 2 x, x, domain=\\mathbb{Z} \\right)}$"
      ],
      "text/plain": [
       "Poly(x**2 + 2*x, x, domain='ZZ')"
      ]
     },
     "execution_count": 63,
     "metadata": {},
     "output_type": "execute_result"
    }
   ],
   "source": [
    "f = (3*x**3 - 1) / (x**2 + 2*x)\n",
    "g = x**2 + 2*x\n",
    "f.as_poly(x)\n",
    "g.as_poly(x)\n",
    "# limit(f, x, oo)\n",
    "# Poly(f).coeffs()"
   ]
  },
  {
   "cell_type": "code",
   "execution_count": null,
   "id": "772d0bc9",
   "metadata": {},
   "outputs": [],
   "source": []
  }
 ],
 "metadata": {
  "kernelspec": {
   "display_name": "Python 3.11.5 ('base')",
   "language": "python",
   "name": "python3"
  },
  "language_info": {
   "codemirror_mode": {
    "name": "ipython",
    "version": 3
   },
   "file_extension": ".py",
   "mimetype": "text/x-python",
   "name": "python",
   "nbconvert_exporter": "python",
   "pygments_lexer": "ipython3",
   "version": "3.11.5"
  },
  "vscode": {
   "interpreter": {
    "hash": "57bc2b6ce032b5f0e93daa91901b7ea38a856826ef43aa9e95b6d3999f5310df"
   }
  }
 },
 "nbformat": 4,
 "nbformat_minor": 5
}
