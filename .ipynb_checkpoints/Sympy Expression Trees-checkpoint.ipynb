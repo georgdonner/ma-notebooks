{
 "cells": [
  {
   "cell_type": "code",
   "execution_count": 63,
   "id": "a16bcdf9",
   "metadata": {},
   "outputs": [],
   "source": [
    "from sympy import *\n",
    "from itertools import product, combinations_with_replacement, chain\n",
    "x,y = symbols('x y')"
   ]
  },
  {
   "cell_type": "code",
   "execution_count": 10,
   "id": "a7dc24bf",
   "metadata": {},
   "outputs": [
    {
     "data": {
      "text/plain": [
       "True"
      ]
     },
     "execution_count": 10,
     "metadata": {},
     "output_type": "execute_result"
    }
   ],
   "source": [
    "expr = 2+x\n",
    "expr2 = x+2\n",
    "\n",
    "f1 = srepr(expr)\n",
    "f2 = srepr(expr2)\n",
    "\n",
    "f1 == f2"
   ]
  },
  {
   "cell_type": "code",
   "execution_count": 19,
   "id": "4bad0b15",
   "metadata": {},
   "outputs": [
    {
     "data": {
      "text/plain": [
       "True"
      ]
     },
     "execution_count": 19,
     "metadata": {},
     "output_type": "execute_result"
    }
   ],
   "source": [
    "srepr(x+(1-1)) == srepr(x+(1-1))"
   ]
  },
  {
   "cell_type": "code",
   "execution_count": 22,
   "id": "4efef047",
   "metadata": {},
   "outputs": [
    {
     "data": {
      "text/plain": [
       "'Rational(1, 2)'"
      ]
     },
     "execution_count": 22,
     "metadata": {},
     "output_type": "execute_result"
    }
   ],
   "source": [
    "srepr(sympify(\"Rational(1, Integer(2))\"))"
   ]
  },
  {
   "cell_type": "code",
   "execution_count": 26,
   "id": "c0c72482",
   "metadata": {},
   "outputs": [
    {
     "data": {
      "text/latex": [
       "$\\displaystyle x - e^{x}$"
      ],
      "text/plain": [
       "x - exp(x)"
      ]
     },
     "execution_count": 26,
     "metadata": {},
     "output_type": "execute_result"
    }
   ],
   "source": [
    "sympify(x-exp(x))"
   ]
  },
  {
   "cell_type": "code",
   "execution_count": 18,
   "id": "9470a095",
   "metadata": {},
   "outputs": [
    {
     "data": {
      "text/plain": [
       "6561"
      ]
     },
     "execution_count": 18,
     "metadata": {},
     "output_type": "execute_result"
    }
   ],
   "source": [
    "l = [1, 2, 3, 4, 5, 6, 7, 8, 9]\n",
    "len(list(product(l, repeat=4)))"
   ]
  },
  {
   "cell_type": "code",
   "execution_count": 21,
   "id": "97b9058c",
   "metadata": {},
   "outputs": [
    {
     "data": {
      "text/plain": [
       "16"
      ]
     },
     "execution_count": 21,
     "metadata": {},
     "output_type": "execute_result"
    }
   ],
   "source": [
    "l = [1, 2]\n",
    "len(list(product(l, repeat=4)))"
   ]
  },
  {
   "cell_type": "code",
   "execution_count": 23,
   "id": "2de52a84",
   "metadata": {},
   "outputs": [
    {
     "data": {
      "text/plain": [
       "952342272"
      ]
     },
     "execution_count": 23,
     "metadata": {},
     "output_type": "execute_result"
    }
   ],
   "source": [
    "81 * 6561 * 256 * 7"
   ]
  },
  {
   "cell_type": "code",
   "execution_count": 54,
   "id": "abafe18b",
   "metadata": {},
   "outputs": [
    {
     "name": "stdout",
     "output_type": "stream",
     "text": [
      "[(1, 1), (1, 2), (2, 2)]\n"
     ]
    },
    {
     "data": {
      "text/plain": [
       "[((1, 1), (1, 1)),\n",
       " ((1, 1), (1, 2)),\n",
       " ((1, 1), (2, 2)),\n",
       " ((1, 2), (1, 1)),\n",
       " ((1, 2), (1, 2)),\n",
       " ((1, 2), (2, 2)),\n",
       " ((2, 2), (1, 1)),\n",
       " ((2, 2), (1, 2)),\n",
       " ((2, 2), (2, 2))]"
      ]
     },
     "execution_count": 54,
     "metadata": {},
     "output_type": "execute_result"
    }
   ],
   "source": [
    "l = list(range(1,3))\n",
    "c = list(combinations_with_replacement(l, 2))\n",
    "d = list(combinations_with_replacement(l, 2))\n",
    "print(c)\n",
    "e = [c,d]\n",
    "list(product(*e))"
   ]
  },
  {
   "cell_type": "code",
   "execution_count": 64,
   "id": "11a6ee25",
   "metadata": {},
   "outputs": [
    {
     "data": {
      "text/plain": [
       "['x',\n",
       " ('x', 'x'),\n",
       " 'x',\n",
       " ('x', 'c'),\n",
       " 'x',\n",
       " ('c', 'x'),\n",
       " 'x',\n",
       " ('c', 'c'),\n",
       " 'c',\n",
       " ('x', 'x'),\n",
       " 'c',\n",
       " ('x', 'c'),\n",
       " 'c',\n",
       " ('c', 'x'),\n",
       " 'c',\n",
       " ('c', 'c')]"
      ]
     },
     "execution_count": 64,
     "metadata": {},
     "output_type": "execute_result"
    }
   ],
   "source": [
    "leaves_children = [['x', 'c'], [('x', 'x'), ('x', 'c'), ('c', 'x'), ('c', 'c')]]\n",
    "l = list(product(*leaves_children))\n",
    "print(l)\n",
    "list(chain.from_iterable(list(product(*leaves_children))))"
   ]
  },
  {
   "cell_type": "code",
   "execution_count": 61,
   "id": "b6aeba6d",
   "metadata": {},
   "outputs": [
    {
     "data": {
      "text/plain": [
       "[('x', 'x', 'x'),\n",
       " ('x', 'x', 'c'),\n",
       " ('x', 'c', 'x'),\n",
       " ('x', 'c', 'c'),\n",
       " ('c', 'x', 'x'),\n",
       " ('c', 'x', 'c'),\n",
       " ('c', 'c', 'x'),\n",
       " ('c', 'c', 'c')]"
      ]
     },
     "execution_count": 61,
     "metadata": {},
     "output_type": "execute_result"
    }
   ],
   "source": [
    "leaf_keys = ['x', 'c']\n",
    "list(product(leaf_keys, repeat=3))"
   ]
  }
 ],
 "metadata": {
  "kernelspec": {
   "display_name": "Python 3 (ipykernel)",
   "language": "python",
   "name": "python3"
  },
  "language_info": {
   "codemirror_mode": {
    "name": "ipython",
    "version": 3
   },
   "file_extension": ".py",
   "mimetype": "text/x-python",
   "name": "python",
   "nbconvert_exporter": "python",
   "pygments_lexer": "ipython3",
   "version": "3.11.5"
  }
 },
 "nbformat": 4,
 "nbformat_minor": 5
}
