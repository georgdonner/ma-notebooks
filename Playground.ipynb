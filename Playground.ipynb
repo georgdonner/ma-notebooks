{
 "cells": [
  {
   "cell_type": "code",
   "execution_count": 15,
   "metadata": {},
   "outputs": [],
   "source": [
    "from sympy import *\n",
    "import numpy as np\n",
    "from itertools import product, combinations_with_replacement, chain\n",
    "from operator import itemgetter, add\n",
    "from math import factorial\n",
    "from multiprocessing import Pool, cpu_count\n",
    "import re\n",
    "x,c = symbols('x c', real=True)"
   ]
  },
  {
   "cell_type": "code",
   "execution_count": 97,
   "metadata": {},
   "outputs": [
    {
     "data": {
      "text/plain": [
       "4"
      ]
     },
     "execution_count": 97,
     "metadata": {},
     "output_type": "execute_result"
    }
   ],
   "source": [
    "cpu_count()"
   ]
  },
  {
   "cell_type": "code",
   "execution_count": 98,
   "metadata": {},
   "outputs": [
    {
     "data": {
      "text/plain": [
       "\"Mul(Symbol('c', real=True), Symbol('x', real=True), Pow(Add(Mul(Integer(-1), Symbol('c', real=True)), Symbol('x', real=True)), Integer(-1)))\""
      ]
     },
     "execution_count": 98,
     "metadata": {},
     "output_type": "execute_result"
    }
   ],
   "source": [
    "srepr(c*x/(-c + x))"
   ]
  },
  {
   "cell_type": "code",
   "execution_count": 99,
   "metadata": {},
   "outputs": [
    {
     "data": {
      "text/plain": [
       "sympy.core.add.Add"
      ]
     },
     "execution_count": 99,
     "metadata": {},
     "output_type": "execute_result"
    }
   ],
   "source": [
    "f = -c*x**3 - c + x**2 + x\n",
    "type(integrate(f, x, risch=True))"
   ]
  },
  {
   "cell_type": "code",
   "execution_count": 9,
   "metadata": {},
   "outputs": [
    {
     "data": {
      "text/plain": [
       "9720362"
      ]
     },
     "execution_count": 9,
     "metadata": {},
     "output_type": "execute_result"
    }
   ],
   "source": [
    "c = 1214461\n",
    "nc = 2427364\n",
    "s = 1558\n",
    "2*c+3*nc+6*s"
   ]
  },
  {
   "cell_type": "code",
   "execution_count": 27,
   "metadata": {},
   "outputs": [],
   "source": [
    "def depth(expr):\n",
    "    expr = sympify(expr)\n",
    "    if isinstance(expr, Atom):\n",
    "        return 1\n",
    "    else:\n",
    "        return 1 + max([ depth(arg) for arg in expr.args ])"
   ]
  },
  {
   "cell_type": "code",
   "execution_count": 36,
   "metadata": {},
   "outputs": [],
   "source": [
    "with open('uniques_ext_depth2.csv', 'r') as readfile:\n",
    "    with open('tagged0.csv', 'w') as writefile:\n",
    "        writefile.write('fn,depth\\n')\n",
    "        for line in readfile:\n",
    "            writefile.write(line.strip() + ',')\n",
    "            writefile.write(str(depth(sympify(line.strip()))) + '\\n')"
   ]
  },
  {
   "cell_type": "code",
   "execution_count": 101,
   "metadata": {},
   "outputs": [],
   "source": [
    "# Calculation method taken from https://en.wikipedia.org/wiki/Asymptote#Elementary_methods_for_identifying_asymptotes\n",
    "# Also mentioned in https://encyclopediaofmath.org/index.php?title=Asymptote\n",
    "def asymptotes(f):\n",
    "    a = set()\n",
    "    for lim in [oo, -oo]:\n",
    "        m = limit(f/x, x, lim)\n",
    "        if m.is_real:\n",
    "            n = limit(f-m*x, x, lim)\n",
    "            if n.is_real:\n",
    "                a.add(m*x+n)\n",
    "    return a"
   ]
  },
  {
   "cell_type": "code",
   "execution_count": 102,
   "metadata": {},
   "outputs": [
    {
     "data": {
      "text/plain": [
       "{0, x + 1}"
      ]
     },
     "execution_count": 102,
     "metadata": {},
     "output_type": "execute_result"
    }
   ],
   "source": [
    "f = (x + 1) / (1 + exp(-x))\n",
    "asymptotes(f)"
   ]
  },
  {
   "cell_type": "code",
   "execution_count": 103,
   "metadata": {},
   "outputs": [
    {
     "data": {
      "text/plain": [
       "[-sqrt(6), 0, sqrt(6), oo]"
      ]
     },
     "execution_count": 103,
     "metadata": {},
     "output_type": "execute_result"
    }
   ],
   "source": [
    "s = singularities(1/x, x)\n",
    "extrema = [(1, 'max')]\n",
    "f = FiniteSet(sqrt(6), -sqrt(6))\n",
    "l = list(s.union(f).union(FiniteSet(oo)))\n",
    "l.sort()\n",
    "l"
   ]
  },
  {
   "cell_type": "code",
   "execution_count": 104,
   "metadata": {},
   "outputs": [
    {
     "data": {
      "text/latex": [
       "$\\displaystyle \\left(-\\infty, 0\\right) \\cup \\left(0, \\infty\\right)$"
      ],
      "text/plain": [
       "Union(Interval.open(-oo, 0), Interval.open(0, oo))"
      ]
     },
     "execution_count": 104,
     "metadata": {},
     "output_type": "execute_result"
    }
   ],
   "source": [
    "parse_expr('Union(Interval.open(-oo, 0), Interval.open(0, oo))')"
   ]
  },
  {
   "cell_type": "code",
   "execution_count": 19,
   "metadata": {},
   "outputs": [
    {
     "name": "stdout",
     "output_type": "stream",
     "text": [
      "{'ConstantTimesRule', 'PowerRule'}\n"
     ]
    }
   ],
   "source": [
    "from sympy.integrals.manualintegrate import manualintegrate, integral_steps\n",
    "f = 2*x\n",
    "# calculus.util.continuous_domain(f, x, S.Reals)\n",
    "steps = integral_steps(f, x)\n",
    "rules = set()\n",
    "for match in re.finditer('\\w+Rule', str(steps)):\n",
    "    rules.add(match.group())\n",
    "print(rules)"
   ]
  },
  {
   "cell_type": "code",
   "execution_count": 7,
   "metadata": {},
   "outputs": [
    {
     "data": {
      "text/latex": [
       "$\\displaystyle \\left\\{0\\right\\}$"
      ],
      "text/plain": [
       "{0}"
      ]
     },
     "execution_count": 7,
     "metadata": {},
     "output_type": "execute_result"
    }
   ],
   "source": [
    "f = sympify('log(x)', locals={'x': x})\n",
    "singularities(f, x)"
   ]
  },
  {
   "cell_type": "code",
   "execution_count": null,
   "metadata": {},
   "outputs": [],
   "source": [
    "f = sympify('log(x)', locals={'x': x})\n",
    "singularities(f, x)"
   ]
  }
 ],
 "metadata": {
  "kernelspec": {
   "display_name": "Python 3.11.5 ('base')",
   "language": "python",
   "name": "python3"
  },
  "language_info": {
   "codemirror_mode": {
    "name": "ipython",
    "version": 3
   },
   "file_extension": ".py",
   "mimetype": "text/x-python",
   "name": "python",
   "nbconvert_exporter": "python",
   "pygments_lexer": "ipython3",
   "version": "3.11.5"
  },
  "vscode": {
   "interpreter": {
    "hash": "57bc2b6ce032b5f0e93daa91901b7ea38a856826ef43aa9e95b6d3999f5310df"
   }
  }
 },
 "nbformat": 4,
 "nbformat_minor": 2
}
