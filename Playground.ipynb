{
 "cells": [
  {
   "cell_type": "code",
   "execution_count": 9,
   "metadata": {},
   "outputs": [],
   "source": [
    "from sympy import *\n",
    "import numpy as np\n",
    "from itertools import product, combinations_with_replacement, chain\n",
    "from operator import itemgetter, add\n",
    "from math import factorial\n",
    "from multiprocessing import Pool, cpu_count\n",
    "import re\n",
    "import json\n",
    "import math\n",
    "from sympy.physics.units.quantities import Quantity\n",
    "k = Quantity('k')\n",
    "x,c = symbols('x c', real=True)"
   ]
  },
  {
   "cell_type": "code",
   "execution_count": 20,
   "metadata": {},
   "outputs": [
    {
     "data": {
      "text/plain": [
       "True"
      ]
     },
     "execution_count": 20,
     "metadata": {},
     "output_type": "execute_result"
    }
   ],
   "source": [
    "\n",
    "f = sympify('sin(k*k)/x*k', locals={'k': k, 'x': x})\n",
    "ln(x) == log(x)\n",
    "# 2*(1026!/(1026-2)!)+((1026+1)!/(2*(1026-1)!))+(1026!/(2*(1026-2)!))+4*1026"
   ]
  },
  {
   "cell_type": "code",
   "execution_count": 7,
   "metadata": {},
   "outputs": [
    {
     "data": {
      "text/latex": [
       "$\\displaystyle \\frac{1}{x}$"
      ],
      "text/plain": [
       "1/x"
      ]
     },
     "execution_count": 7,
     "metadata": {},
     "output_type": "execute_result"
    }
   ],
   "source": [
    "4/x-3/x"
   ]
  },
  {
   "cell_type": "code",
   "execution_count": 99,
   "metadata": {},
   "outputs": [
    {
     "data": {
      "text/plain": [
       "sympy.core.add.Add"
      ]
     },
     "execution_count": 99,
     "metadata": {},
     "output_type": "execute_result"
    }
   ],
   "source": [
    "f = -c*x**3 - c + x**2 + x\n",
    "type(integrate(f, x, risch=True))"
   ]
  },
  {
   "cell_type": "code",
   "execution_count": 2,
   "metadata": {},
   "outputs": [
    {
     "data": {
      "text/plain": [
       "False"
      ]
     },
     "execution_count": 2,
     "metadata": {},
     "output_type": "execute_result"
    }
   ],
   "source": [
    "float('nan') > 0"
   ]
  },
  {
   "cell_type": "code",
   "execution_count": 126,
   "metadata": {},
   "outputs": [
    {
     "name": "stdout",
     "output_type": "stream",
     "text": [
      "(2, 1/(1 - x)) <class 'sympy.core.mul.Mul'>\n",
      "pow -1\n",
      "() <class 'sympy.core.numbers.Integer'>\n",
      "(1 - x, -1) <class 'sympy.core.power.Pow'>\n",
      "(1, -x) <class 'sympy.core.add.Add'>\n",
      "() <class 'sympy.core.numbers.One'>\n",
      "(-1, x) <class 'sympy.core.mul.Mul'>\n",
      "mul -1\n",
      "() <class 'sympy.core.numbers.NegativeOne'>\n",
      "() <class 'sympy.core.symbol.Symbol'>\n",
      "() <class 'sympy.core.numbers.NegativeOne'>\n"
     ]
    },
    {
     "data": {
      "text/plain": [
       "2"
      ]
     },
     "execution_count": 126,
     "metadata": {},
     "output_type": "execute_result"
    }
   ],
   "source": [
    "def depth(expr):\n",
    "    print(expr.args, expr.func)\n",
    "    if isinstance(expr, Atom):\n",
    "        return 0\n",
    "    else:\n",
    "        inc = 1\n",
    "        arg_types = [type(a) for a in expr.args]\n",
    "        if expr.func == Mul and -1 in expr.args:\n",
    "            print('mul -1')\n",
    "            inc = 0\n",
    "        elif expr.func == Mul and arg_types == [Integer, Pow] and -1 in expr.args[1].args:\n",
    "            print('pow -1')\n",
    "            inc = 0\n",
    "        return inc + max([depth(arg) for arg in expr.args])\n",
    "    \n",
    "f = 2/(1-x)\n",
    "depth(f)\n"
   ]
  },
  {
   "cell_type": "code",
   "execution_count": 39,
   "metadata": {},
   "outputs": [],
   "source": [
    "f = x*exp(x)/4\n",
    "# f = (2+x)*(x+3)\n",
    "\n",
    "class ArgStack:\n",
    "    def __init__(self):\n",
    "      self.stack = []\n",
    "\n",
    "    def __len__(self):\n",
    "        return len([a for a, skip in self.stack if not skip])\n",
    "  \n",
    "    def push(self, n_args, skip):\n",
    "        self.stack.append([n_args, skip])\n",
    "  \n",
    "    def pop(self):\n",
    "        if not len(self.stack):\n",
    "            return\n",
    "        if self.stack[-1][0] <= 1:\n",
    "            slice_end = 0\n",
    "            for n, _ in reversed(self.stack):\n",
    "                if n > 1:\n",
    "                    break\n",
    "                else:\n",
    "                    slice_end -= 1\n",
    "            self.stack = self.stack[:slice_end]\n",
    "        if len(self.stack):\n",
    "            self.stack[-1][0] -= 1\n",
    "\n",
    "# this function is needed, because sympy always converts subtraction to addition\n",
    "# i.e. 1-x to 1+(-1)*x which introduces an extra leaf, node and level of depth\n",
    "# it also always converts division to multiplication\n",
    "# i.e. 4/(1-x) to 4*(1-x)^-1 which also introduces an extra leaf, node and level of depth\n",
    "def tree_props(f):\n",
    "    leaves = 0\n",
    "    nodes = 0\n",
    "    arg_stack = ArgStack()\n",
    "    max_depth = 0\n",
    "    marked_pows = []\n",
    "    for expr in preorder_traversal(f):\n",
    "        skip_depth = False\n",
    "        if expr.func == Mul:\n",
    "            arg_types = set([type(a) for a in expr.args])\n",
    "            # multiplication with -1\n",
    "            if -1 in expr.args:\n",
    "                leaves -= 1\n",
    "                nodes -= 2 # nodes are always decreased by two, because *(-1) has two nodes\n",
    "                skip_depth = True\n",
    "            # power of -1 which replaces division (can have multiple in one multiplication)\n",
    "            if Pow in arg_types:\n",
    "                # have to mark these pows for later, because you can't retrieve parents of args\n",
    "                pows = [arg for arg in expr.args if type(arg) == Pow and -1 in arg.args]\n",
    "                marked_pows += pows\n",
    "                # a multiplication of -1 and a marked pow in the same expression would reduce leaves and depth too much\n",
    "                if len(pows) and -1 in expr.args:\n",
    "                    leaves += 1\n",
    "                    nodes += 2\n",
    "                    skip_depth = False\n",
    "\n",
    "        if expr.func == Pow and expr in marked_pows:\n",
    "            leaves -= 1\n",
    "            nodes -= 2\n",
    "            skip_depth = True\n",
    "            marked_pows.remove(expr)\n",
    "        \n",
    "        if isinstance(expr, Atom):\n",
    "            leaves += 1\n",
    "            arg_stack.pop()\n",
    "        else:\n",
    "            arg_stack.push(len(expr.args), skip_depth)\n",
    "        nodes += max(1, len(expr.args) - 1)\n",
    "        max_depth = max(max_depth, len(arg_stack))\n",
    "    return (max_depth, leaves, nodes)"
   ]
  },
  {
   "cell_type": "code",
   "execution_count": 40,
   "metadata": {},
   "outputs": [],
   "source": [
    "assert tree_props(x**2) == (1,2,3)\n",
    "assert tree_props(1/x) == (1,2,3)\n",
    "assert tree_props(2/x) == (1,2,3)\n",
    "assert tree_props(x+1) == (1,2,3)\n",
    "assert tree_props(x-1) == (1,2,3)\n",
    "assert tree_props(x-2) == (1,2,3)\n",
    "assert tree_props(1-x) == (1,2,3)\n",
    "assert tree_props(2-x) == (1,2,3)\n",
    "assert tree_props(x/3) == (1,2,3)\n",
    "assert tree_props((2+x)*(x+3)) == (2,4,7)\n",
    "assert tree_props(x/(2*x + 8)) == (3,4,7)\n",
    "assert tree_props(x**2/(x - 2)) == (2,4,7)\n",
    "assert tree_props(exp(sin(x))) == (2,1,3)\n",
    "assert tree_props(exp(sin(x))+exp(cos(x))) == (3,2,7)\n",
    "assert tree_props(-2-x + acos(x)) == (2,3,6)\n",
    "assert tree_props(-x**2 + log(x)) == (2,3,6)\n",
    "assert tree_props(4*x/(x + 4)) == (2,4,7)\n",
    "assert tree_props(2*x-1/(x+2)) == (3,5,9)\n",
    "assert tree_props(1/(x-3)-1/(x+2)) == (3,6,11)\n",
    "assert tree_props(4/(x-3)-5/(x+2)) == (3,6,11)\n",
    "assert tree_props(x*exp(x)/4) == (2,3,6) # multiplication with 3 operands\n",
    "assert tree_props(sqrt(1 - x**2)) == (3,4,7) # sqrt = ^1/2, so it counts as a leaf & node too\n",
    "assert tree_props(1/(8-x)+exp(7/(sin(x)+5))) == (5,6,13)"
   ]
  },
  {
   "cell_type": "code",
   "execution_count": 36,
   "metadata": {},
   "outputs": [],
   "source": [
    "with open('uniques_ext_depth2.csv', 'r') as readfile:\n",
    "    with open('tagged0.csv', 'w') as writefile:\n",
    "        writefile.write('fn,depth\\n')\n",
    "        for line in readfile:\n",
    "            writefile.write(line.strip() + ',')\n",
    "            writefile.write(str(depth(sympify(line.strip()))) + '\\n')"
   ]
  },
  {
   "cell_type": "code",
   "execution_count": 101,
   "metadata": {},
   "outputs": [],
   "source": [
    "# Calculation method taken from https://en.wikipedia.org/wiki/Asymptote#Elementary_methods_for_identifying_asymptotes\n",
    "# Also mentioned in https://encyclopediaofmath.org/index.php?title=Asymptote\n",
    "def asymptotes(f):\n",
    "    a = set()\n",
    "    for lim in [oo, -oo]:\n",
    "        m = limit(f/x, x, lim)\n",
    "        if m.is_real:\n",
    "            n = limit(f-m*x, x, lim)\n",
    "            if n.is_real:\n",
    "                a.add(m*x+n)\n",
    "    return a"
   ]
  },
  {
   "cell_type": "code",
   "execution_count": 102,
   "metadata": {},
   "outputs": [
    {
     "data": {
      "text/plain": [
       "{0, x + 1}"
      ]
     },
     "execution_count": 102,
     "metadata": {},
     "output_type": "execute_result"
    }
   ],
   "source": [
    "f = (x + 1) / (1 + exp(-x))\n",
    "asymptotes(f)"
   ]
  },
  {
   "cell_type": "code",
   "execution_count": 103,
   "metadata": {},
   "outputs": [
    {
     "data": {
      "text/plain": [
       "[-sqrt(6), 0, sqrt(6), oo]"
      ]
     },
     "execution_count": 103,
     "metadata": {},
     "output_type": "execute_result"
    }
   ],
   "source": [
    "s = singularities(1/x, x)\n",
    "extrema = [(1, 'max')]\n",
    "f = FiniteSet(sqrt(6), -sqrt(6))\n",
    "l = list(s.union(f).union(FiniteSet(oo)))\n",
    "l.sort()\n",
    "l"
   ]
  },
  {
   "cell_type": "code",
   "execution_count": 104,
   "metadata": {},
   "outputs": [
    {
     "data": {
      "text/latex": [
       "$\\displaystyle \\left(-\\infty, 0\\right) \\cup \\left(0, \\infty\\right)$"
      ],
      "text/plain": [
       "Union(Interval.open(-oo, 0), Interval.open(0, oo))"
      ]
     },
     "execution_count": 104,
     "metadata": {},
     "output_type": "execute_result"
    }
   ],
   "source": [
    "parse_expr('Union(Interval.open(-oo, 0), Interval.open(0, oo))')"
   ]
  },
  {
   "cell_type": "code",
   "execution_count": 19,
   "metadata": {},
   "outputs": [
    {
     "name": "stdout",
     "output_type": "stream",
     "text": [
      "{'ConstantTimesRule', 'PowerRule'}\n"
     ]
    }
   ],
   "source": [
    "from sympy.integrals.manualintegrate import manualintegrate, integral_steps\n",
    "f = 2*x\n",
    "# calculus.util.continuous_domain(f, x, S.Reals)\n",
    "steps = integral_steps(f, x)\n",
    "rules = set()\n",
    "for match in re.finditer('\\w+Rule', str(steps)):\n",
    "    rules.add(match.group())\n",
    "print(rules)"
   ]
  },
  {
   "cell_type": "code",
   "execution_count": 7,
   "metadata": {},
   "outputs": [
    {
     "data": {
      "text/latex": [
       "$\\displaystyle \\left\\{0\\right\\}$"
      ],
      "text/plain": [
       "{0}"
      ]
     },
     "execution_count": 7,
     "metadata": {},
     "output_type": "execute_result"
    }
   ],
   "source": [
    "f = sympify('log(x)', locals={'x': x})\n",
    "singularities(f, x)"
   ]
  },
  {
   "cell_type": "code",
   "execution_count": 58,
   "metadata": {},
   "outputs": [],
   "source": [
    "f = log(x)\n",
    "f.is_rational_function()"
   ]
  },
  {
   "cell_type": "code",
   "execution_count": 10,
   "metadata": {},
   "outputs": [
    {
     "name": "stdout",
     "output_type": "stream",
     "text": [
      "10\n"
     ]
    }
   ],
   "source": [
    "def test(t=5):\n",
    "    print(t)\n",
    "s = None\n",
    "test(t=s or 10)"
   ]
  },
  {
   "cell_type": "code",
   "execution_count": 8,
   "metadata": {},
   "outputs": [
    {
     "ename": "NotImplementedError",
     "evalue": "multiple generators [x, asin(x)]\nNo algorithms are implemented to solve equation -i + x*asin(x)",
     "output_type": "error",
     "traceback": [
      "\u001b[1;31m---------------------------------------------------------------------------\u001b[0m",
      "\u001b[1;31mNotImplementedError\u001b[0m                       Traceback (most recent call last)",
      "\u001b[1;32mc:\\Users\\Administrator\\Uni\\MA\\ma-notebooks\\Playground.ipynb Cell 18\u001b[0m line \u001b[0;36m3\n\u001b[0;32m      <a href='vscode-notebook-cell:/c%3A/Users/Administrator/Uni/MA/ma-notebooks/Playground.ipynb#X23sZmlsZQ%3D%3D?line=0'>1</a>\u001b[0m i \u001b[39m=\u001b[39m Symbol(\u001b[39m'\u001b[39m\u001b[39mi\u001b[39m\u001b[39m'\u001b[39m)\n\u001b[0;32m      <a href='vscode-notebook-cell:/c%3A/Users/Administrator/Uni/MA/ma-notebooks/Playground.ipynb#X23sZmlsZQ%3D%3D?line=1'>2</a>\u001b[0m f \u001b[39m=\u001b[39m x\u001b[39m*\u001b[39masin(x)\n\u001b[1;32m----> <a href='vscode-notebook-cell:/c%3A/Users/Administrator/Uni/MA/ma-notebooks/Playground.ipynb#X23sZmlsZQ%3D%3D?line=2'>3</a>\u001b[0m solutions \u001b[39m=\u001b[39m solve(f \u001b[39m-\u001b[39m i, x)\n\u001b[0;32m      <a href='vscode-notebook-cell:/c%3A/Users/Administrator/Uni/MA/ma-notebooks/Playground.ipynb#X23sZmlsZQ%3D%3D?line=3'>4</a>\u001b[0m total \u001b[39m=\u001b[39m EmptySet\n\u001b[0;32m      <a href='vscode-notebook-cell:/c%3A/Users/Administrator/Uni/MA/ma-notebooks/Playground.ipynb#X23sZmlsZQ%3D%3D?line=4'>5</a>\u001b[0m \u001b[39mfor\u001b[39;00m sol \u001b[39min\u001b[39;00m solutions:\n",
      "File \u001b[1;32mc:\\Users\\Administrator\\anaconda3\\Lib\\site-packages\\sympy\\solvers\\solvers.py:1112\u001b[0m, in \u001b[0;36msolve\u001b[1;34m(f, *symbols, **flags)\u001b[0m\n\u001b[0;32m   1108\u001b[0m \u001b[39m#\u001b[39;00m\n\u001b[0;32m   1109\u001b[0m \u001b[39m# try to get a solution\u001b[39;00m\n\u001b[0;32m   1110\u001b[0m \u001b[39m###########################################################################\u001b[39;00m\n\u001b[0;32m   1111\u001b[0m \u001b[39mif\u001b[39;00m bare_f:\n\u001b[1;32m-> 1112\u001b[0m     solution \u001b[39m=\u001b[39m _solve(f[\u001b[39m0\u001b[39m], \u001b[39m*\u001b[39msymbols, \u001b[39m*\u001b[39m\u001b[39m*\u001b[39mflags)\n\u001b[0;32m   1113\u001b[0m \u001b[39melse\u001b[39;00m:\n\u001b[0;32m   1114\u001b[0m     solution \u001b[39m=\u001b[39m _solve_system(f, symbols, \u001b[39m*\u001b[39m\u001b[39m*\u001b[39mflags)\n",
      "File \u001b[1;32mc:\\Users\\Administrator\\anaconda3\\Lib\\site-packages\\sympy\\solvers\\solvers.py:1744\u001b[0m, in \u001b[0;36m_solve\u001b[1;34m(f, *symbols, **flags)\u001b[0m\n\u001b[0;32m   1741\u001b[0m \u001b[39m# ----------- end of fallback ----------------------------\u001b[39;00m\n\u001b[0;32m   1743\u001b[0m \u001b[39mif\u001b[39;00m result \u001b[39mis\u001b[39;00m \u001b[39mFalse\u001b[39;00m:\n\u001b[1;32m-> 1744\u001b[0m     \u001b[39mraise\u001b[39;00m \u001b[39mNotImplementedError\u001b[39;00m(\u001b[39m'\u001b[39m\u001b[39m\\n\u001b[39;00m\u001b[39m'\u001b[39m\u001b[39m.\u001b[39mjoin([msg, not_impl_msg \u001b[39m%\u001b[39m f]))\n\u001b[0;32m   1746\u001b[0m \u001b[39mif\u001b[39;00m flags\u001b[39m.\u001b[39mget(\u001b[39m'\u001b[39m\u001b[39msimplify\u001b[39m\u001b[39m'\u001b[39m, \u001b[39mTrue\u001b[39;00m):\n\u001b[0;32m   1747\u001b[0m     result \u001b[39m=\u001b[39m \u001b[39mlist\u001b[39m(\u001b[39mmap\u001b[39m(simplify, result))\n",
      "\u001b[1;31mNotImplementedError\u001b[0m: multiple generators [x, asin(x)]\nNo algorithms are implemented to solve equation -i + x*asin(x)"
     ]
    }
   ],
   "source": [
    "i = Symbol('i')\n",
    "f = x*asin(x)\n",
    "solutions = solve(f - i, x)\n",
    "total = EmptySet\n",
    "for sol in solutions:\n",
    "    inv = sol.subs(i, x)\n",
    "    r = calculus.util.function_range(inv, x, S.Reals)\n",
    "    total += r\n",
    "total\n"
   ]
  },
  {
   "cell_type": "code",
   "execution_count": 29,
   "metadata": {},
   "outputs": [
    {
     "data": {
      "text/plain": [
       "1"
      ]
     },
     "execution_count": 29,
     "metadata": {},
     "output_type": "execute_result"
    }
   ],
   "source": [
    "from sympy.integrals.risch import NonElementaryIntegral\n",
    "\n",
    "f = 1/log(x)\n",
    "i = integrate(f, x, risch=True)\n",
    "len(i.atoms(NonElementaryIntegral))"
   ]
  },
  {
   "cell_type": "code",
   "execution_count": 7,
   "metadata": {},
   "outputs": [
    {
     "name": "stdout",
     "output_type": "stream",
     "text": [
      "2*c + x\n",
      "c + x\n",
      "c + x**2\n",
      "c + x**2\n",
      "c + cos(x)\n",
      "c + cos(x)\n",
      "2*c - x\n",
      "c - x\n",
      "c + exp(x)\n",
      "c + exp(x)\n",
      "c + x**2 + x\n",
      "c + x**2 + x\n",
      "c + c/x + x\n",
      "c + c/x + x\n",
      "c + 2*x\n",
      "c + c*x\n",
      "c + x + log(x)\n",
      "c + x + log(x)\n",
      "c + 2*x\n",
      "c + c*x\n",
      "2*c + x\n",
      "c + x\n"
     ]
    }
   ],
   "source": [
    "lines = [\n",
    "    '2*c + x',\n",
    "    'c + x**2',\n",
    "    'c + cos(x)',\n",
    "    '2*c - x',\n",
    "    'c + exp(x)',\n",
    "    'c + x**2 + x',\n",
    "    'c + c/x + x',\n",
    "    'c + 2*x',\n",
    "    'c + x + log(x)',\n",
    "    'c + 2*x',\n",
    "    '2*c + x',\n",
    "]\n",
    "re_mul_int = re.compile('(?<!\\*)\\*?\\d\\*(x|c)')\n",
    "\n",
    "def replace_mul_int(match):\n",
    "    if match.group(1) == 'x':\n",
    "        return 'c*x'\n",
    "    return 'c'\n",
    "\n",
    "for line in lines:\n",
    "    print(line)\n",
    "    line = re.sub(\n",
    "        re_mul_int,\n",
    "        replace_mul_int,\n",
    "        line\n",
    "    )\n",
    "    print(line)"
   ]
  }
 ],
 "metadata": {
  "kernelspec": {
   "display_name": "Python 3.11.5 ('base')",
   "language": "python",
   "name": "python3"
  },
  "language_info": {
   "codemirror_mode": {
    "name": "ipython",
    "version": 3
   },
   "file_extension": ".py",
   "mimetype": "text/x-python",
   "name": "python",
   "nbconvert_exporter": "python",
   "pygments_lexer": "ipython3",
   "version": "3.11.5"
  },
  "vscode": {
   "interpreter": {
    "hash": "57bc2b6ce032b5f0e93daa91901b7ea38a856826ef43aa9e95b6d3999f5310df"
   }
  }
 },
 "nbformat": 4,
 "nbformat_minor": 2
}
