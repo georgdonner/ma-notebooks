{
 "cells": [
  {
   "cell_type": "code",
   "execution_count": 10,
   "metadata": {},
   "outputs": [],
   "source": [
    "from sympy import *\n",
    "from sympy.integrals.manualintegrate import integral_steps\n",
    "import numpy as np\n",
    "from itertools import product, combinations_with_replacement, chain\n",
    "from operator import itemgetter, add\n",
    "from math import factorial\n",
    "from multiprocessing import Pool, cpu_count\n",
    "import re\n",
    "import json\n",
    "import math\n",
    "from sympy.physics.units.quantities import Quantity\n",
    "k = Quantity('k')\n",
    "x,a,b,c = symbols('x a b c', real=True)\n",
    "# 2*(1026!/(1026-2)!)+((1026+1)!/(2*(1026-1)!))+(1026!/(2*(1026-2)!))+4*1026"
   ]
  },
  {
   "cell_type": "code",
   "execution_count": 96,
   "metadata": {},
   "outputs": [
    {
     "name": "stdout",
     "output_type": "stream",
     "text": [
      "<class 'sympy.sets.sets.Complement'>\n",
      "Complement(Intersection(FiniteSet(Integer(-3)), Complement(Reals, Union(ImageSet(Lambda(Tuple(Dummy('n', dummy_index=2364638)), Add(Mul(Integer(2), Dummy('n', dummy_index=2364638), pi), Mul(Rational(1, 2), pi))), Integers), ImageSet(Lambda(Tuple(Dummy('n', dummy_index=2364643)), Add(Mul(Integer(2), Dummy('n', dummy_index=2364643), pi), Mul(Rational(3, 2), pi))), Integers)))), Complement(ImageSet(Lambda(Tuple(Dummy('n', dummy_index=2364756)), Add(Mul(Integer(2), Dummy('n', dummy_index=2364756), pi), Mul(Rational(3, 2), pi))), Integers), Union(ImageSet(Lambda(Tuple(Dummy('n', dummy_index=2364638)), Add(Mul(Integer(2), Dummy('n', dummy_index=2364638), pi), Mul(Rational(1, 2), pi))), Integers), ImageSet(Lambda(Tuple(Dummy('n', dummy_index=2364643)), Add(Mul(Integer(2), Dummy('n', dummy_index=2364643), pi), Mul(Rational(3, 2), pi))), Integers))))\n",
      "{-3}\n",
      "oo\n"
     ]
    },
    {
     "data": {
      "text/latex": [
       "$\\displaystyle \\left(\\left\\{-3\\right\\} \\cap \\left(\\mathbb{R} \\setminus \\left(\\left\\{2 n \\pi + \\frac{\\pi}{2}\\; \\middle|\\; n \\in \\mathbb{Z}\\right\\} \\cup \\left\\{2 n \\pi + \\frac{3 \\pi}{2}\\; \\middle|\\; n \\in \\mathbb{Z}\\right\\}\\right)\\right)\\right) \\setminus \\left(\\left\\{2 n \\pi + \\frac{3 \\pi}{2}\\; \\middle|\\; n \\in \\mathbb{Z}\\right\\} \\setminus \\left(\\left\\{2 n \\pi + \\frac{\\pi}{2}\\; \\middle|\\; n \\in \\mathbb{Z}\\right\\} \\cup \\left\\{2 n \\pi + \\frac{3 \\pi}{2}\\; \\middle|\\; n \\in \\mathbb{Z}\\right\\}\\right)\\right)$"
      ],
      "text/plain": [
       "Complement(Intersection(Complement(Reals, Union(ImageSet(Lambda(_n, 2*_n*pi + pi/2), Integers), ImageSet(Lambda(_n, 2*_n*pi + 3*pi/2), Integers))), {-3}), Complement(ImageSet(Lambda(_n, 2*_n*pi + 3*pi/2), Integers), Union(ImageSet(Lambda(_n, 2*_n*pi + pi/2), Integers), ImageSet(Lambda(_n, 2*_n*pi + 3*pi/2), Integers))))"
      ]
     },
     "execution_count": 96,
     "metadata": {},
     "output_type": "execute_result"
    }
   ],
   "source": [
    "f = (x + 3)/cos(x)\n",
    "domain = calculus.util.continuous_domain(f, x, S.Reals)\n",
    "all_zeros = solveset(f, x, domain)\n",
    "zeros_count = oo\n",
    "print(type(all_zeros))\n",
    "print(srepr(all_zeros))\n",
    "curr_args = all_zeros\n",
    "while isinstance(curr_args, Intersection) or isinstance(curr_args, Complement):\n",
    "    if len(curr_args.args) == 0:\n",
    "        break\n",
    "    first_arg = curr_args.args[0]\n",
    "    if first_arg.is_FiniteSet:\n",
    "        print(first_arg)\n",
    "        break\n",
    "    curr_args = first_arg\n",
    "if isinstance(all_zeros, Intersection):\n",
    "    finite_sets = [arg for arg in all_zeros.args if arg.is_FiniteSet]\n",
    "    if len(finite_sets) > 0:\n",
    "        all_included = all([f.subs(x, z) == 0 for z in finite_sets[0]])\n",
    "        if all_included:\n",
    "            zeros_count = len(finite_sets[0])\n",
    "print(zeros_count)\n",
    "all_zeros"
   ]
  },
  {
   "cell_type": "code",
   "execution_count": 13,
   "metadata": {},
   "outputs": [
    {
     "name": "stdout",
     "output_type": "stream",
     "text": [
      "1/(x*exp(x) + x)\n",
      "durch 0 teilen x*exp(x) + x\n",
      "[0]\n"
     ]
    },
    {
     "data": {
      "text/latex": [
       "$\\displaystyle \\left\\{0\\right\\}$"
      ],
      "text/plain": [
       "{0}"
      ]
     },
     "execution_count": 13,
     "metadata": {},
     "output_type": "execute_result"
    }
   ],
   "source": [
    "from sympy.solvers.solveset import solveset\n",
    "\n",
    "\n",
    "def get_singularities(expression, symbol, domain=None):\n",
    "    if domain is None:\n",
    "        domain = S.Reals if symbol.is_real else S.Complexes\n",
    "    try:\n",
    "        sings = S.EmptySet\n",
    "        for i in expression.rewrite([sec, csc, cot, tan], cos).atoms(Pow):\n",
    "            print(i)\n",
    "            if i.exp.is_infinite:\n",
    "                raise NotImplementedError\n",
    "            if i.exp.is_negative:\n",
    "                print('durch 0 teilen', i.base)\n",
    "                print(solve(i.base, x))\n",
    "                sings += solveset(i.base, symbol, domain)\n",
    "        for i in expression.atoms(log):\n",
    "            print('logarithmus <= 0')\n",
    "            sings += solveset(i.args[0], symbol, domain)\n",
    "        return sings\n",
    "    except NotImplementedError:\n",
    "        raise NotImplementedError(filldedent('''\n",
    "            Methods for determining the singularities\n",
    "            of this function have not been developed.'''))\n",
    "    \n",
    "get_singularities(2/(x+exp(x)), x)"
   ]
  },
  {
   "cell_type": "code",
   "execution_count": 11,
   "metadata": {},
   "outputs": [
    {
     "data": {
      "text/latex": [
       "$\\displaystyle \\left\\{0, \\pi, 2 \\pi\\right\\}$"
      ],
      "text/plain": [
       "{0, pi, 2*pi}"
      ]
     },
     "execution_count": 11,
     "metadata": {},
     "output_type": "execute_result"
    }
   ],
   "source": [
    "f = sin(x)\n",
    "fd = diff(f,x)\n",
    "fdd = diff(fd,x)\n",
    "fddd = diff(fdd,x)\n",
    "s_set = solveset(fdd, x, Interval(0, 2*pi))\n",
    "# solveset(fdd > 0, x, s_set)\n",
    "s_set"
   ]
  },
  {
   "cell_type": "code",
   "execution_count": 12,
   "metadata": {},
   "outputs": [
    {
     "data": {
      "text/plain": [
       "[log(x/2 - sqrt(x**2 + 4)/2), log(x/2 + sqrt(x**2 + 4)/2)]"
      ]
     },
     "execution_count": 12,
     "metadata": {},
     "output_type": "execute_result"
    }
   ],
   "source": [
    "x = Symbol('x', real=True)\n",
    "y = Symbol('y', real=True)\n",
    "f = exp(x)-exp(-x)\n",
    "inverses = [i.subs(y, x) for i in solve(f-y, x) if not i.has(I)]\n",
    "inverses"
   ]
  },
  {
   "cell_type": "code",
   "execution_count": 31,
   "metadata": {},
   "outputs": [
    {
     "data": {
      "text/plain": [
       "1"
      ]
     },
     "execution_count": 31,
     "metadata": {},
     "output_type": "execute_result"
    }
   ],
   "source": [
    "a = Symbol('a', positive=True)\n",
    "b = Symbol('b', negative=True)\n",
    "f = (a+x)/(b+x)\n",
    "zeros = solveset(f, x, S.Reals)\n",
    "len(zeros)"
   ]
  },
  {
   "cell_type": "code",
   "execution_count": 47,
   "metadata": {},
   "outputs": [
    {
     "name": "stdout",
     "output_type": "stream",
     "text": [
      "AlternativeRule(alternatives=[URule(u_var=_u, u_func=log(x), constant=1, substep=PartsRule(u=_u, dv=exp(_u)*cos(exp(_u)), v_step=URule(u_var=_u, u_func=exp(_u), constant=1, substep=TrigRule(func='cos', arg=_u, context=cos(_u), symbol=_u), context=exp(_u)*cos(exp(_u)), symbol=_u), second_step=URule(u_var=_u, u_func=exp(_u), constant=1, substep=SiRule(a=1, b=0, context=sin(_u)/_u, symbol=_u), context=sin(exp(_u)), symbol=_u), context=_u*exp(_u)*cos(exp(_u)), symbol=_u), context=log(x)*cos(x), symbol=x), PartsRule(u=log(x), dv=cos(x), v_step=TrigRule(func='cos', arg=x, context=cos(x), symbol=x), second_step=SiRule(a=1, b=0, context=sin(x)/x, symbol=x), context=log(x)*cos(x), symbol=x)], context=log(x)*cos(x), symbol=x)\n",
      "[URule(u_var=_u, u_func=log(x), constant=1, substep=PartsRule(u=_u, dv=exp(_u)*cos(exp(_u)), v_step=URule(u_var=_u, u_func=exp(_u), constant=1, substep=TrigRule(func='cos', arg=_u, context=cos(_u), symbol=_u), context=exp(_u)*cos(exp(_u)), symbol=_u), second_step=URule(u_var=_u, u_func=exp(_u), constant=1, substep=SiRule(a=1, b=0, context=sin(_u)/_u, symbol=_u), context=sin(exp(_u)), symbol=_u), context=_u*exp(_u)*cos(exp(_u)), symbol=_u), context=log(x)*cos(x), symbol=x), PartsRule(u=log(x), dv=cos(x), v_step=TrigRule(func='cos', arg=x, context=cos(x), symbol=x), second_step=SiRule(a=1, b=0, context=sin(x)/x, symbol=x), context=log(x)*cos(x), symbol=x)]\n",
      "URule(u_var=_u, u_func=log(x), constant=1, substep=PartsRule(u=_u, dv=exp(_u)*cos(exp(_u)), v_step=URule(u_var=_u, u_func=exp(_u), constant=1, substep=TrigRule(func='cos', arg=_u, context=cos(_u), symbol=_u), context=exp(_u)*cos(exp(_u)), symbol=_u), second_step=URule(u_var=_u, u_func=exp(_u), constant=1, substep=SiRule(a=1, b=0, context=sin(_u)/_u, symbol=_u), context=sin(exp(_u)), symbol=_u), context=_u*exp(_u)*cos(exp(_u)), symbol=_u), context=log(x)*cos(x), symbol=x)\n",
      "_u\n",
      "log(x)\n",
      "x\n",
      "1\n",
      "PartsRule(u=_u, dv=exp(_u)*cos(exp(_u)), v_step=URule(u_var=_u, u_func=exp(_u), constant=1, substep=TrigRule(func='cos', arg=_u, context=cos(_u), symbol=_u), context=exp(_u)*cos(exp(_u)), symbol=_u), second_step=URule(u_var=_u, u_func=exp(_u), constant=1, substep=SiRule(a=1, b=0, context=sin(_u)/_u, symbol=_u), context=sin(exp(_u)), symbol=_u), context=_u*exp(_u)*cos(exp(_u)), symbol=_u)\n",
      "_u\n",
      "exp(_u)*cos(exp(_u))\n",
      "cos(exp(_u))\n",
      "exp(_u)\n",
      "_u\n",
      "exp(_u)\n",
      "_u\n",
      "URule(u_var=_u, u_func=exp(_u), constant=1, substep=TrigRule(func='cos', arg=_u, context=cos(_u), symbol=_u), context=exp(_u)*cos(exp(_u)), symbol=_u)\n",
      "_u\n",
      "exp(_u)\n",
      "_u\n",
      "1\n",
      "TrigRule(func='cos', arg=_u, context=cos(_u), symbol=_u)\n",
      "cos\n",
      "_u\n",
      "cos(_u)\n",
      "_u\n",
      "_u\n",
      "exp(_u)*cos(exp(_u))\n",
      "cos(exp(_u))\n",
      "exp(_u)\n",
      "_u\n",
      "exp(_u)\n",
      "_u\n",
      "_u\n",
      "URule(u_var=_u, u_func=exp(_u), constant=1, substep=SiRule(a=1, b=0, context=sin(_u)/_u, symbol=_u), context=sin(exp(_u)), symbol=_u)\n",
      "_u\n",
      "exp(_u)\n",
      "_u\n",
      "1\n",
      "SiRule(a=1, b=0, context=sin(_u)/_u, symbol=_u)\n",
      "1\n",
      "0\n",
      "sin(_u)/_u\n",
      "1/_u\n",
      "_u\n",
      "-1\n",
      "sin(_u)\n",
      "_u\n",
      "_u\n",
      "sin(exp(_u))\n",
      "exp(_u)\n",
      "_u\n",
      "_u\n",
      "_u*exp(_u)*cos(exp(_u))\n",
      "_u\n",
      "cos(exp(_u))\n",
      "exp(_u)\n",
      "_u\n",
      "exp(_u)\n",
      "_u\n",
      "_u\n",
      "log(x)*cos(x)\n",
      "cos(x)\n",
      "x\n",
      "log(x)\n",
      "x\n",
      "x\n",
      "PartsRule(u=log(x), dv=cos(x), v_step=TrigRule(func='cos', arg=x, context=cos(x), symbol=x), second_step=SiRule(a=1, b=0, context=sin(x)/x, symbol=x), context=log(x)*cos(x), symbol=x)\n",
      "log(x)\n",
      "x\n",
      "cos(x)\n",
      "x\n",
      "TrigRule(func='cos', arg=x, context=cos(x), symbol=x)\n",
      "cos\n",
      "x\n",
      "cos(x)\n",
      "x\n",
      "x\n",
      "SiRule(a=1, b=0, context=sin(x)/x, symbol=x)\n",
      "1\n",
      "0\n",
      "sin(x)/x\n",
      "1/x\n",
      "x\n",
      "-1\n",
      "sin(x)\n",
      "x\n",
      "x\n",
      "log(x)*cos(x)\n",
      "cos(x)\n",
      "x\n",
      "log(x)\n",
      "x\n",
      "x\n",
      "log(x)*cos(x)\n",
      "cos(x)\n",
      "x\n",
      "log(x)\n",
      "x\n",
      "x\n",
      "URule\n",
      "URule(u_var=_u, u_func=exp(_u), constant=1, substep=TrigRule(func='cos', arg=_u, context=cos(_u), symbol=_u), context=exp(_u)*cos(exp(_u)), symbol=_u)\n"
     ]
    },
    {
     "data": {
      "text/plain": [
       "{'PartsRule', 'URule'}"
      ]
     },
     "execution_count": 47,
     "metadata": {},
     "output_type": "execute_result"
    }
   ],
   "source": [
    "f = log(x)*cos(x)\n",
    "step = integral_steps(f, x)\n",
    "for s in preorder_traversal(step):\n",
    "    print(s)\n",
    "rules = set()\n",
    "\n",
    "def add_rules(step):\n",
    "    if hasattr(step, 'v_step'):\n",
    "        print(type(step.v_step).__name__)\n",
    "        print(step.v_step)\n",
    "        rules.add(type(step.v_step).__name__)\n",
    "    if hasattr(step, 'second_step'):\n",
    "        type(step.second_step).__name__\n",
    "        rules.add(type(step.second_step).__name__)\n",
    "    rules.add(type(step).__name__)\n",
    "\n",
    "while hasattr(step, 'substep') or hasattr(step, 'alternatives'):\n",
    "    if hasattr(step, 'alternatives'):\n",
    "        step = step.alternatives[0]\n",
    "    else:\n",
    "        add_rules(step)\n",
    "        step = step.substep\n",
    "add_rules(step)\n",
    "rules"
   ]
  },
  {
   "cell_type": "code",
   "execution_count": 64,
   "metadata": {},
   "outputs": [
    {
     "name": "stdout",
     "output_type": "stream",
     "text": [
      "AlternativeRule(alternatives=[URule(u_var=_u, u_func=x + 4, constant=1, substep=PowerRule(base=_u, exp=2, context=_u**2, symbol=_u), context=(x + 4)**2, symbol=x), RewriteRule(rewritten=x**2 + 8*x + 16, substep=AddRule(substeps=[PowerRule(base=x, exp=2, context=x**2, symbol=x), ConstantTimesRule(constant=8, other=x, substep=PowerRule(base=x, exp=1, context=x, symbol=x), context=8*x, symbol=x), ConstantRule(constant=16, context=16, symbol=x)], context=x**2 + 8*x + 16, symbol=x), context=(x + 4)**2, symbol=x)], context=(x + 4)**2, symbol=x)\n"
     ]
    },
    {
     "data": {
      "text/plain": [
       "['URule', 'PowerRule']"
      ]
     },
     "execution_count": 64,
     "metadata": {},
     "output_type": "execute_result"
    }
   ],
   "source": [
    "valid_attrs = ['substep', 'substeps', 'v_step', 'second_step', 'alternatives']\n",
    "ignore_rules = ['AlternativeRule']\n",
    "\n",
    "def get_rules(step):\n",
    "    rule = type(step).__name__\n",
    "    if rule not in ignore_rules:\n",
    "        yield rule\n",
    "    for attr in valid_attrs:\n",
    "        if hasattr(step, attr):\n",
    "            if attr == 'alternatives':\n",
    "                yield from get_rules(step.alternatives[0])\n",
    "            elif attr == 'substeps':\n",
    "                for substep in step.substeps:\n",
    "                    yield from get_rules(substep)\n",
    "            else:\n",
    "                yield from get_rules(getattr(step, attr))\n",
    "\n",
    "f = (x + 4)**2\n",
    "step = integral_steps(f, x)\n",
    "print(step)\n",
    "rules = list(dict.fromkeys((get_rules(step))))\n",
    "rules"
   ]
  },
  {
   "cell_type": "code",
   "execution_count": 99,
   "metadata": {},
   "outputs": [
    {
     "data": {
      "text/plain": [
       "sympy.core.add.Add"
      ]
     },
     "execution_count": 99,
     "metadata": {},
     "output_type": "execute_result"
    }
   ],
   "source": [
    "f = -c*x**3 - c + x**2 + x\n",
    "type(integrate(f, x, risch=True))"
   ]
  },
  {
   "cell_type": "code",
   "execution_count": 2,
   "metadata": {},
   "outputs": [
    {
     "data": {
      "text/plain": [
       "AddRule(substeps=[ConstantTimesRule(constant=-a, other=1/x, substep=ReciprocalRule(func=x, context=1/x, symbol=x), context=-a/x, symbol=x), ConstantRule(constant=b, context=b, symbol=x), PowerRule(base=x, exp=1, context=x, symbol=x)], context=-a/x + b + x, symbol=x)"
      ]
     },
     "execution_count": 2,
     "metadata": {},
     "output_type": "execute_result"
    }
   ],
   "source": [
    "f = -a/x+x+b\n",
    "integral_steps(f, x)"
   ]
  },
  {
   "cell_type": "code",
   "execution_count": 126,
   "metadata": {},
   "outputs": [
    {
     "name": "stdout",
     "output_type": "stream",
     "text": [
      "(2, 1/(1 - x)) <class 'sympy.core.mul.Mul'>\n",
      "pow -1\n",
      "() <class 'sympy.core.numbers.Integer'>\n",
      "(1 - x, -1) <class 'sympy.core.power.Pow'>\n",
      "(1, -x) <class 'sympy.core.add.Add'>\n",
      "() <class 'sympy.core.numbers.One'>\n",
      "(-1, x) <class 'sympy.core.mul.Mul'>\n",
      "mul -1\n",
      "() <class 'sympy.core.numbers.NegativeOne'>\n",
      "() <class 'sympy.core.symbol.Symbol'>\n",
      "() <class 'sympy.core.numbers.NegativeOne'>\n"
     ]
    },
    {
     "data": {
      "text/plain": [
       "2"
      ]
     },
     "execution_count": 126,
     "metadata": {},
     "output_type": "execute_result"
    }
   ],
   "source": [
    "def depth(expr):\n",
    "    print(expr.args, expr.func)\n",
    "    if isinstance(expr, Atom):\n",
    "        return 0\n",
    "    else:\n",
    "        inc = 1\n",
    "        arg_types = [type(a) for a in expr.args]\n",
    "        if expr.func == Mul and -1 in expr.args:\n",
    "            print('mul -1')\n",
    "            inc = 0\n",
    "        elif expr.func == Mul and arg_types == [Integer, Pow] and -1 in expr.args[1].args:\n",
    "            print('pow -1')\n",
    "            inc = 0\n",
    "        return inc + max([depth(arg) for arg in expr.args])\n",
    "    \n",
    "f = 2/(1-x)\n",
    "depth(f)\n"
   ]
  },
  {
   "cell_type": "code",
   "execution_count": 9,
   "metadata": {},
   "outputs": [],
   "source": [
    "f = x*exp(x)/4\n",
    "# f = (2+x)*(x+3)\n",
    "\n",
    "class ArgStack:\n",
    "    def __init__(self):\n",
    "      self.stack = []\n",
    "\n",
    "    def __len__(self):\n",
    "        return len([a for a, skip in self.stack if not skip])\n",
    "  \n",
    "    def push(self, n_args, skip):\n",
    "        self.stack.append([n_args, skip])\n",
    "  \n",
    "    def pop(self):\n",
    "        if not len(self.stack):\n",
    "            return\n",
    "        if self.stack[-1][0] <= 1:\n",
    "            slice_end = 0\n",
    "            for n, _ in reversed(self.stack):\n",
    "                if n > 1:\n",
    "                    break\n",
    "                else:\n",
    "                    slice_end -= 1\n",
    "            self.stack = self.stack[:slice_end]\n",
    "        if len(self.stack):\n",
    "            self.stack[-1][0] -= 1\n",
    "\n",
    "# this function is needed, because sympy always converts subtraction to addition\n",
    "# i.e. 1-x to 1+(-1)*x which introduces an extra leaf, node and level of depth\n",
    "# it also always converts division to multiplication\n",
    "# i.e. 4/(1-x) to 4*(1-x)^-1 which also introduces an extra leaf, node and level of depth\n",
    "def tree_props(f):\n",
    "    leaves = 0\n",
    "    nodes = 0\n",
    "    arg_stack = ArgStack()\n",
    "    max_depth = 0\n",
    "    marked_pows = []\n",
    "    for expr in preorder_traversal(f):\n",
    "        skip_depth = False\n",
    "        if expr.func == Mul:\n",
    "            arg_types = set([type(a) for a in expr.args])\n",
    "            # multiplication with -1\n",
    "            if -1 in expr.args:\n",
    "                leaves -= 1\n",
    "                nodes -= 2 # nodes are always decreased by two, because *(-1) has two nodes\n",
    "                skip_depth = True\n",
    "            # power of -1 which replaces division (can have multiple in one multiplication)\n",
    "            if Pow in arg_types:\n",
    "                # have to mark these pows for later, because you can't retrieve parents of args\n",
    "                pows = [arg for arg in expr.args if type(arg) == Pow and -1 in arg.args]\n",
    "                marked_pows += pows\n",
    "                # a multiplication of -1 and a marked pow in the same expression would reduce leaves and depth too much\n",
    "                if len(pows) and -1 in expr.args:\n",
    "                    leaves += 1\n",
    "                    nodes += 2\n",
    "                    skip_depth = False\n",
    "\n",
    "        if expr.func == Pow and expr in marked_pows:\n",
    "            leaves -= 1\n",
    "            nodes -= 2\n",
    "            skip_depth = True\n",
    "            marked_pows.remove(expr)\n",
    "        \n",
    "        if isinstance(expr, Atom):\n",
    "            leaves += 1\n",
    "            arg_stack.pop()\n",
    "        else:\n",
    "            arg_stack.push(len(expr.args), skip_depth)\n",
    "        nodes += max(1, len(expr.args) - 1)\n",
    "        max_depth = max(max_depth, len(arg_stack))\n",
    "    return (max_depth, leaves, nodes)"
   ]
  },
  {
   "cell_type": "code",
   "execution_count": 16,
   "metadata": {},
   "outputs": [
    {
     "data": {
      "text/latex": [
       "$\\displaystyle ADD + 2 DIV + 2 SUB$"
      ],
      "text/plain": [
       "ADD + 2*DIV + 2*SUB"
      ]
     },
     "execution_count": 16,
     "metadata": {},
     "output_type": "execute_result"
    }
   ],
   "source": [
    "assert tree_props(x**2) == (1,2,3)\n",
    "assert tree_props(1/x) == (1,2,3)\n",
    "assert tree_props(2/x) == (1,2,3)\n",
    "assert tree_props(x+1) == (1,2,3)\n",
    "assert tree_props(x-1) == (1,2,3)\n",
    "assert tree_props(x-2) == (1,2,3)\n",
    "assert tree_props(1-x) == (1,2,3)\n",
    "assert tree_props(2-x) == (1,2,3)\n",
    "assert tree_props(x/3) == (1,2,3)\n",
    "assert tree_props((2+x)*(x+3)) == (2,4,7)\n",
    "assert tree_props(x/(2*x + 8)) == (3,4,7)\n",
    "assert tree_props(x**2/(x - 2)) == (2,4,7)\n",
    "assert tree_props(exp(sin(x))) == (2,1,3)\n",
    "assert tree_props(exp(sin(x))+exp(cos(x))) == (3,2,7)\n",
    "assert tree_props(-2-x + acos(x)) == (2,3,6)\n",
    "assert tree_props(-x**2 + log(x)) == (2,3,6)\n",
    "assert tree_props(4*x/(x + 4)) == (2,4,7)\n",
    "assert tree_props(2*x-1/(x+2)) == (3,5,9)\n",
    "assert tree_props(1/(x-3)-1/(x+2)) == (3,6,11)\n",
    "assert tree_props(4/(x-3)-5/(x+2)) == (3,6,11)\n",
    "assert tree_props(x*exp(x)/4) == (2,3,6) # multiplication with 3 operands\n",
    "assert tree_props(sqrt(1 - x**2)) == (3,4,7) # sqrt = ^1/2, so it counts as a leaf & node too\n",
    "assert tree_props(1/(8-x)+exp(7/(sin(x)+5))) == (5,6,13)\n",
    "\n",
    "(4/(x-3)-5/(x+2)).count_ops(visual=True)"
   ]
  },
  {
   "cell_type": "code",
   "execution_count": 36,
   "metadata": {},
   "outputs": [],
   "source": [
    "with open('uniques_ext_depth2.csv', 'r') as readfile:\n",
    "    with open('tagged0.csv', 'w') as writefile:\n",
    "        writefile.write('fn,depth\\n')\n",
    "        for line in readfile:\n",
    "            writefile.write(line.strip() + ',')\n",
    "            writefile.write(str(depth(sympify(line.strip()))) + '\\n')"
   ]
  },
  {
   "cell_type": "code",
   "execution_count": 101,
   "metadata": {},
   "outputs": [],
   "source": [
    "# Calculation method taken from https://en.wikipedia.org/wiki/Asymptote#Elementary_methods_for_identifying_asymptotes\n",
    "# Also mentioned in https://encyclopediaofmath.org/index.php?title=Asymptote\n",
    "def asymptotes(f):\n",
    "    a = set()\n",
    "    for lim in [oo, -oo]:\n",
    "        m = limit(f/x, x, lim)\n",
    "        if m.is_real:\n",
    "            n = limit(f-m*x, x, lim)\n",
    "            if n.is_real:\n",
    "                a.add(m*x+n)\n",
    "    return a"
   ]
  },
  {
   "cell_type": "code",
   "execution_count": 102,
   "metadata": {},
   "outputs": [
    {
     "data": {
      "text/plain": [
       "{0, x + 1}"
      ]
     },
     "execution_count": 102,
     "metadata": {},
     "output_type": "execute_result"
    }
   ],
   "source": [
    "f = (x + 1) / (1 + exp(-x))\n",
    "asymptotes(f)"
   ]
  },
  {
   "cell_type": "code",
   "execution_count": 103,
   "metadata": {},
   "outputs": [
    {
     "data": {
      "text/plain": [
       "[-sqrt(6), 0, sqrt(6), oo]"
      ]
     },
     "execution_count": 103,
     "metadata": {},
     "output_type": "execute_result"
    }
   ],
   "source": [
    "s = singularities(1/x, x)\n",
    "extrema = [(1, 'max')]\n",
    "f = FiniteSet(sqrt(6), -sqrt(6))\n",
    "l = list(s.union(f).union(FiniteSet(oo)))\n",
    "l.sort()\n",
    "l"
   ]
  },
  {
   "cell_type": "code",
   "execution_count": 104,
   "metadata": {},
   "outputs": [
    {
     "data": {
      "text/latex": [
       "$\\displaystyle \\left(-\\infty, 0\\right) \\cup \\left(0, \\infty\\right)$"
      ],
      "text/plain": [
       "Union(Interval.open(-oo, 0), Interval.open(0, oo))"
      ]
     },
     "execution_count": 104,
     "metadata": {},
     "output_type": "execute_result"
    }
   ],
   "source": [
    "parse_expr('Union(Interval.open(-oo, 0), Interval.open(0, oo))')"
   ]
  },
  {
   "cell_type": "code",
   "execution_count": 19,
   "metadata": {},
   "outputs": [
    {
     "name": "stdout",
     "output_type": "stream",
     "text": [
      "{'ConstantTimesRule', 'PowerRule'}\n"
     ]
    }
   ],
   "source": [
    "from sympy.integrals.manualintegrate import manualintegrate, integral_steps\n",
    "f = 2*x\n",
    "# calculus.util.continuous_domain(f, x, S.Reals)\n",
    "steps = integral_steps(f, x)\n",
    "rules = set()\n",
    "for match in re.finditer('\\w+Rule', str(steps)):\n",
    "    rules.add(match.group())\n",
    "print(rules)"
   ]
  },
  {
   "cell_type": "code",
   "execution_count": 7,
   "metadata": {},
   "outputs": [
    {
     "data": {
      "text/latex": [
       "$\\displaystyle \\left\\{0\\right\\}$"
      ],
      "text/plain": [
       "{0}"
      ]
     },
     "execution_count": 7,
     "metadata": {},
     "output_type": "execute_result"
    }
   ],
   "source": [
    "f = sympify('log(x)', locals={'x': x})\n",
    "singularities(f, x)"
   ]
  },
  {
   "cell_type": "code",
   "execution_count": 58,
   "metadata": {},
   "outputs": [],
   "source": [
    "f = log(x)\n",
    "f.is_rational_function()"
   ]
  },
  {
   "cell_type": "code",
   "execution_count": 10,
   "metadata": {},
   "outputs": [
    {
     "name": "stdout",
     "output_type": "stream",
     "text": [
      "10\n"
     ]
    }
   ],
   "source": [
    "def test(t=5):\n",
    "    print(t)\n",
    "s = None\n",
    "test(t=s or 10)"
   ]
  },
  {
   "cell_type": "code",
   "execution_count": 7,
   "metadata": {},
   "outputs": [
    {
     "data": {
      "text/plain": [
       "AlternativeRule(alternatives=[URule(u_var=_u, u_func=x + 2, constant=1, substep=PartsRule(u=log(_u), dv=1, v_step=ConstantRule(constant=1, context=1, symbol=_u), second_step=ConstantRule(constant=1, context=1, symbol=_u), context=log(_u), symbol=_u), context=log(x + 2), symbol=x), PartsRule(u=log(x + 2), dv=1, v_step=ConstantRule(constant=1, context=1, symbol=x), second_step=RewriteRule(rewritten=1 - 2/(x + 2), substep=AddRule(substeps=[ConstantRule(constant=1, context=1, symbol=x), ConstantTimesRule(constant=-2, other=1/(x + 2), substep=URule(u_var=_u, u_func=x + 2, constant=1, substep=ReciprocalRule(func=_u, context=1/_u, symbol=_u), context=1/(x + 2), symbol=x), context=-2/(x + 2), symbol=x)], context=1 - 2/(x + 2), symbol=x), context=x/(x + 2), symbol=x), context=log(x + 2), symbol=x)], context=log(x + 2), symbol=x)"
      ]
     },
     "execution_count": 7,
     "metadata": {},
     "output_type": "execute_result"
    }
   ],
   "source": [
    "from sympy.integrals.manualintegrate import manualintegrate, integral_steps\n",
    "f = log(x+2)\n",
    "integral_steps(f, x)"
   ]
  },
  {
   "cell_type": "code",
   "execution_count": 2,
   "metadata": {},
   "outputs": [],
   "source": [
    "s = ''\n",
    "if s:\n",
    "    print('lol')"
   ]
  },
  {
   "cell_type": "code",
   "execution_count": 29,
   "metadata": {},
   "outputs": [
    {
     "data": {
      "text/plain": [
       "1"
      ]
     },
     "execution_count": 29,
     "metadata": {},
     "output_type": "execute_result"
    }
   ],
   "source": [
    "from sympy.integrals.risch import NonElementaryIntegral\n",
    "\n",
    "f = 1/log(x)\n",
    "i = integrate(f, x, risch=True)\n",
    "len(i.atoms(NonElementaryIntegral))"
   ]
  },
  {
   "cell_type": "code",
   "execution_count": 7,
   "metadata": {},
   "outputs": [
    {
     "name": "stdout",
     "output_type": "stream",
     "text": [
      "2*c + x\n",
      "c + x\n",
      "c + x**2\n",
      "c + x**2\n",
      "c + cos(x)\n",
      "c + cos(x)\n",
      "2*c - x\n",
      "c - x\n",
      "c + exp(x)\n",
      "c + exp(x)\n",
      "c + x**2 + x\n",
      "c + x**2 + x\n",
      "c + c/x + x\n",
      "c + c/x + x\n",
      "c + 2*x\n",
      "c + c*x\n",
      "c + x + log(x)\n",
      "c + x + log(x)\n",
      "c + 2*x\n",
      "c + c*x\n",
      "2*c + x\n",
      "c + x\n"
     ]
    }
   ],
   "source": [
    "lines = [\n",
    "    '2*c + x',\n",
    "    'c + x**2',\n",
    "    'c + cos(x)',\n",
    "    '2*c - x',\n",
    "    'c + exp(x)',\n",
    "    'c + x**2 + x',\n",
    "    'c + c/x + x',\n",
    "    'c + 2*x',\n",
    "    'c + x + log(x)',\n",
    "    'c + 2*x',\n",
    "    '2*c + x',\n",
    "]\n",
    "re_mul_int = re.compile('(?<!\\*)\\*?\\d\\*(x|c)')\n",
    "\n",
    "def replace_mul_int(match):\n",
    "    if match.group(1) == 'x':\n",
    "        return 'c*x'\n",
    "    return 'c'\n",
    "\n",
    "for line in lines:\n",
    "    print(line)\n",
    "    line = re.sub(\n",
    "        re_mul_int,\n",
    "        replace_mul_int,\n",
    "        line\n",
    "    )\n",
    "    print(line)"
   ]
  }
 ],
 "metadata": {
  "kernelspec": {
   "display_name": "Python 3.11.5 ('base')",
   "language": "python",
   "name": "python3"
  },
  "language_info": {
   "codemirror_mode": {
    "name": "ipython",
    "version": 3
   },
   "file_extension": ".py",
   "mimetype": "text/x-python",
   "name": "python",
   "nbconvert_exporter": "python",
   "pygments_lexer": "ipython3",
   "version": "3.11.5"
  },
  "vscode": {
   "interpreter": {
    "hash": "57bc2b6ce032b5f0e93daa91901b7ea38a856826ef43aa9e95b6d3999f5310df"
   }
  }
 },
 "nbformat": 4,
 "nbformat_minor": 2
}
